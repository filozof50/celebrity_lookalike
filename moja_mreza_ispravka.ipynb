{
  "nbformat": 4,
  "nbformat_minor": 0,
  "metadata": {
    "colab": {
      "name": "Untitled4.ipynb",
      "provenance": []
    },
    "kernelspec": {
      "name": "python3",
      "display_name": "Python 3"
    }
  },
  "cells": [
    {
      "cell_type": "code",
      "metadata": {
        "id": "vHMWz9uw-Jm5",
        "colab_type": "code",
        "colab": {}
      },
      "source": [
        "from sklearn import model_selection\n",
        "from keras import Sequential\n",
        "from keras import datasets\n",
        "from keras.layers import *\n",
        "from keras.models import *\n",
        "from keras.optimizers import Adam\n",
        "from keras import losses\n",
        "import matplotlib.pyplot as plt\n",
        "from keras.utils import to_categorical\n",
        "from keras.callbacks import EarlyStopping, ModelCheckpoint\n",
        "import numpy as np"
      ],
      "execution_count": 0,
      "outputs": []
    },
    {
      "cell_type": "code",
      "metadata": {
        "id": "n3rYoSy9-bGt",
        "colab_type": "code",
        "colab": {
          "base_uri": "https://localhost:8080/",
          "height": 34
        },
        "outputId": "15bb138b-6d01-4a3a-a9a0-c787f5110ec2"
      },
      "source": [
        "from google.colab import drive\n",
        "drive.mount('/content/drive')"
      ],
      "execution_count": 29,
      "outputs": [
        {
          "output_type": "stream",
          "text": [
            "Drive already mounted at /content/drive; to attempt to forcibly remount, call drive.mount(\"/content/drive\", force_remount=True).\n"
          ],
          "name": "stdout"
        }
      ]
    },
    {
      "cell_type": "code",
      "metadata": {
        "id": "PnYBl27u-clD",
        "colab_type": "code",
        "colab": {}
      },
      "source": [
        "# !unzip drive/My\\ Drive/dataset_ispravka.zip -d ."
      ],
      "execution_count": 0,
      "outputs": []
    },
    {
      "cell_type": "code",
      "metadata": {
        "id": "diU_dFQ2QI_K",
        "colab_type": "code",
        "colab": {}
      },
      "source": [
        "X = np.load('dataset_ispravka/dataset_x_ispravka.npy')\n",
        "Y = np.load('dataset_ispravka/dataset_y_ispravka.npy')"
      ],
      "execution_count": 0,
      "outputs": []
    },
    {
      "cell_type": "code",
      "metadata": {
        "id": "UsGWh_o7-whG",
        "colab_type": "code",
        "outputId": "83edb39c-d42f-4a99-b694-0f63f2059d52",
        "colab": {
          "base_uri": "https://localhost:8080/",
          "height": 286
        }
      },
      "source": [
        "index = 23\n",
        "\n",
        "plt.imshow(X[index], cmap = 'gray')\n",
        "print(Y[index])"
      ],
      "execution_count": 32,
      "outputs": [
        {
          "output_type": "stream",
          "text": [
            "George W Bush\n"
          ],
          "name": "stdout"
        },
        {
          "output_type": "display_data",
          "data": {
            "image/png": "[encoded data removed]",
            "text/plain": [
              "<Figure size 432x288 with 1 Axes>"
            ]
          },
          "metadata": {
            "tags": []
          }
        }
      ]
    },
    {
      "cell_type": "code",
      "metadata": {
        "id": "_Pum5HIUCBDC",
        "colab_type": "code",
        "outputId": "df02c0b6-0326-4a51-8be6-d3fa715991b8",
        "colab": {
          "base_uri": "https://localhost:8080/",
          "height": 1000
        }
      },
      "source": [
        "a, b = np.unique(Y, return_counts=True)\n",
        "counts = dict(zip(a, b))\n",
        "\n",
        "for item in counts:\n",
        "    print(item, counts[item])"
      ],
      "execution_count": 33,
      "outputs": [
        {
          "output_type": "stream",
          "text": [
            "Alejandro Toledo 39\n",
            "Alvaro Uribe 35\n",
            "Amelie Mauresmo 21\n",
            "Andre Agassi 36\n",
            "Angelina Jolie 20\n",
            "Ariel Sharon 77\n",
            "Arnold Schwarzenegger 42\n",
            "Atal Bihari Vajpayee 24\n",
            "Bill Clinton 29\n",
            "Carlos Menem 21\n",
            "Colin Powell 236\n",
            "David Beckham 31\n",
            "Donald Rumsfeld 121\n",
            "George Robertson 22\n",
            "George W Bush 530\n",
            "Gerhard Schroeder 109\n",
            "Gloria Macapagal Arroyo 44\n",
            "Gray Davis 26\n",
            "Guillermo Coria 30\n",
            "Hamid Karzai 22\n",
            "Hans Blix 39\n",
            "Hugo Chavez 71\n",
            "Igor Ivanov 20\n",
            "Jack Straw 28\n",
            "Jacques Chirac 52\n",
            "Jean Chretien 55\n",
            "Jennifer Aniston 21\n",
            "Jennifer Capriati 42\n",
            "Jennifer Lopez 21\n",
            "Jeremy Greenstock 24\n",
            "Jiang Zemin 20\n",
            "John Ashcroft 53\n",
            "John Negroponte 31\n",
            "Jose Maria Aznar 23\n",
            "Juan Carlos Ferrero 28\n",
            "Junichiro Koizumi 60\n",
            "Kofi Annan 32\n",
            "Laura Bush 41\n",
            "Lindsay Davenport 22\n",
            "Lleyton Hewitt 41\n",
            "Luiz Inacio Lula da Silva 48\n",
            "Mahmoud Abbas 29\n",
            "Megawati Sukarnoputri 33\n",
            "Michael Bloomberg 20\n",
            "Naomi Watts 22\n",
            "Nestor Kirchner 37\n",
            "Paul Bremer 20\n",
            "Pete Sampras 22\n",
            "Recep Tayyip Erdogan 30\n",
            "Ricardo Lagos 27\n",
            "Roh Moo-hyun 32\n",
            "Rudolph Giuliani 26\n",
            "Saddam Hussein 23\n",
            "Serena Williams 52\n",
            "Silvio Berlusconi 33\n",
            "Tiger Woods 23\n",
            "Tom Daschle 25\n",
            "Tom Ridge 33\n",
            "Tony Blair 144\n",
            "Vicente Fox 32\n",
            "Vladimir Putin 49\n",
            "Winona Ryder 24\n"
          ],
          "name": "stdout"
        }
      ]
    },
    {
      "cell_type": "code",
      "metadata": {
        "id": "eQSaO3y6CCex",
        "colab_type": "code",
        "colab": {}
      },
      "source": [
        "persons = dict(zip(np.unique(Y), enumerate(np.unique(Y))))"
      ],
      "execution_count": 0,
      "outputs": []
    },
    {
      "cell_type": "code",
      "metadata": {
        "id": "R_XuIZd5CD-g",
        "colab_type": "code",
        "colab": {}
      },
      "source": [
        "for i in range(len(Y)):\n",
        "    Y[i] = persons[Y[i]][0]"
      ],
      "execution_count": 0,
      "outputs": []
    },
    {
      "cell_type": "code",
      "metadata": {
        "id": "lkhVWInSCFLf",
        "colab_type": "code",
        "outputId": "68eab085-a521-42d6-9045-fd507ca518a8",
        "colab": {
          "base_uri": "https://localhost:8080/",
          "height": 34
        }
      },
      "source": [
        "print(Y)"
      ],
      "execution_count": 36,
      "outputs": [
        {
          "output_type": "stream",
          "text": [
            "['61' '25' '9' ... '14' '15' '14']\n"
          ],
          "name": "stdout"
        }
      ]
    },
    {
      "cell_type": "code",
      "metadata": {
        "id": "_y3xWyi1CGT0",
        "colab_type": "code",
        "colab": {}
      },
      "source": [
        "x_train, x_test, y_train, y_test = model_selection.train_test_split(X, Y, test_size = 0.33, stratify = Y)"
      ],
      "execution_count": 0,
      "outputs": []
    },
    {
      "cell_type": "code",
      "metadata": {
        "id": "2f-nEd1KCHuk",
        "colab_type": "code",
        "outputId": "b2a6f1ff-738f-4e0d-a7ae-92b6560de613",
        "colab": {
          "base_uri": "https://localhost:8080/",
          "height": 1000
        }
      },
      "source": [
        "plt.hist(x_train[0])\n",
        "\n",
        "# Potrebna normalizacija"
      ],
      "execution_count": 38,
      "outputs": [
        {
          "output_type": "execute_result",
          "data": {
            "text/plain": [
              "([array([ 0.,  0., 62.,  0.,  0.,  0.,  0.,  0.,  0.,  0.]),\n",
              "  array([ 0.,  0., 62.,  0.,  0.,  0.,  0.,  0.,  0.,  0.]),\n",
              "  array([ 0.,  0., 60.,  2.,  0.,  0.,  0.,  0.,  0.,  0.]),\n",
              "  array([ 0.,  0., 56.,  5.,  1.,  0.,  0.,  0.,  0.,  0.]),\n",
              "  array([ 0.,  0., 47., 10.,  4.,  1.,  0.,  0.,  0.,  0.]),\n",
              "  array([ 0.,  0., 24., 24.,  5.,  6.,  3.,  0.,  0.,  0.]),\n",
              "  array([ 0.,  0., 16., 15., 10., 13.,  4.,  4.,  0.,  0.]),\n",
              "  array([ 0.,  0., 13.,  9.,  9., 15., 12.,  4.,  0.,  0.]),\n",
              "  array([ 0.,  0., 14.,  8., 12.,  9., 10.,  9.,  0.,  0.]),\n",
              "  array([ 0.,  2., 11., 11.,  9.,  8.,  7., 14.,  0.,  0.]),\n",
              "  array([ 1.,  1.,  8., 15.,  7.,  6.,  8., 13.,  3.,  0.]),\n",
              "  array([ 2.,  1.,  9., 11.,  9.,  5.,  9., 13.,  3.,  0.]),\n",
              "  array([ 2.,  2.,  7., 12.,  3.,  9., 10., 13.,  4.,  0.]),\n",
              "  array([ 0.,  2.,  4., 16.,  5.,  5., 11., 10.,  9.,  0.]),\n",
              "  array([ 0.,  1.,  4., 16.,  4.,  8.,  7., 10., 12.,  0.]),\n",
              "  array([ 0.,  1.,  5., 15.,  6.,  7.,  6., 11., 11.,  0.]),\n",
              "  array([ 0.,  2.,  5., 15.,  9.,  4.,  8.,  8., 10.,  1.]),\n",
              "  array([ 2.,  1., 10., 11.,  9.,  4.,  5.,  9.,  6.,  5.]),\n",
              "  array([ 1.,  3., 10.,  7., 12.,  3.,  8.,  6.,  7.,  5.]),\n",
              "  array([ 0.,  5.,  6.,  8., 11.,  7.,  5.,  5.,  9.,  6.]),\n",
              "  array([ 0.,  3.,  8.,  6., 12.,  8.,  2.,  6.,  9.,  8.]),\n",
              "  array([ 0.,  5.,  6.,  4., 10.,  9.,  5.,  7.,  7.,  9.]),\n",
              "  array([ 0.,  6.,  4.,  7.,  8.,  8.,  6.,  7., 11.,  5.]),\n",
              "  array([ 1.,  4.,  6.,  8.,  8., 11.,  3., 10.,  7.,  4.]),\n",
              "  array([ 1.,  2.,  7., 16., 10.,  5.,  6.,  6.,  5.,  4.]),\n",
              "  array([ 0.,  2., 12., 16., 13.,  2.,  2.,  7.,  4.,  4.]),\n",
              "  array([ 0.,  1., 15., 19.,  9.,  0.,  2.,  9.,  3.,  4.]),\n",
              "  array([ 0.,  2., 14., 20.,  8.,  0.,  1., 11.,  3.,  3.]),\n",
              "  array([ 0.,  4., 11., 17.,  9.,  4.,  0., 12.,  3.,  2.]),\n",
              "  array([ 0.,  5., 13.,  9., 10.,  8.,  2., 10.,  3.,  2.]),\n",
              "  array([ 1.,  4., 17.,  6.,  5., 12.,  5.,  7.,  5.,  0.]),\n",
              "  array([ 1.,  4., 14.,  9.,  5.,  7.,  9.,  7.,  6.,  0.]),\n",
              "  array([ 2.,  3., 14.,  8.,  5.,  8., 11.,  6.,  5.,  0.]),\n",
              "  array([ 2.,  2., 11., 11.,  5., 10., 10.,  8.,  3.,  0.]),\n",
              "  array([ 1.,  0., 11., 12.,  8.,  9.,  8., 12.,  1.,  0.]),\n",
              "  array([ 0.,  2.,  7., 16.,  6., 11.,  9., 11.,  0.,  0.]),\n",
              "  array([ 0.,  1., 10., 16.,  6., 12., 11.,  6.,  0.,  0.]),\n",
              "  array([ 0.,  3.,  9., 19.,  7.,  9., 10.,  5.,  0.,  0.]),\n",
              "  array([ 0.,  1., 15., 17.,  8.,  8., 13.,  0.,  0.,  0.]),\n",
              "  array([ 0.,  0., 16., 19.,  8., 10.,  9.,  0.,  0.,  0.]),\n",
              "  array([ 0.,  0., 13., 23.,  8., 12.,  6.,  0.,  0.,  0.]),\n",
              "  array([ 0.,  5.,  8., 23., 13.,  9.,  3.,  1.,  0.,  0.]),\n",
              "  array([ 0.,  7., 12., 18., 11., 10.,  3.,  0.,  1.,  0.]),\n",
              "  array([ 0.,  4., 16., 14., 15., 11.,  0.,  1.,  1.,  0.]),\n",
              "  array([ 0.,  4., 20.,  8., 21.,  6.,  0.,  1.,  2.,  0.]),\n",
              "  array([ 0.,  7., 17., 19., 13.,  2.,  1.,  1.,  2.,  0.]),\n",
              "  array([ 0.,  7., 19., 18.,  9.,  5.,  0.,  2.,  2.,  0.])],\n",
              " array([ 33.      ,  53.666668,  74.333336,  95.      , 115.66667 ,\n",
              "        136.33334 , 157.      , 177.66667 , 198.33334 , 219.      ,\n",
              "        239.66667 ], dtype=float32),\n",
              " <a list of 47 Lists of Patches objects>)"
            ]
          },
          "metadata": {
            "tags": []
          },
          "execution_count": 38
        },
        {
          "output_type": "display_data",
          "data": {
            "image/png": "[encoded data removed]",
            "text/plain": [
              "<Figure size 432x288 with 1 Axes>"
            ]
          },
          "metadata": {
            "tags": []
          }
        }
      ]
    },
    {
      "cell_type": "code",
      "metadata": {
        "id": "0qwWyhNQCMeu",
        "colab_type": "code",
        "colab": {}
      },
      "source": [
        "x_train = x_train / 255\n",
        "x_test = x_test / 255"
      ],
      "execution_count": 0,
      "outputs": []
    },
    {
      "cell_type": "code",
      "metadata": {
        "id": "lq6pUhtJCN6a",
        "colab_type": "code",
        "colab": {}
      },
      "source": [
        "x_train = np.expand_dims(x_train, axis = 3)"
      ],
      "execution_count": 0,
      "outputs": []
    },
    {
      "cell_type": "code",
      "metadata": {
        "id": "5IEF4W1cCPEE",
        "colab_type": "code",
        "colab": {}
      },
      "source": [
        "image_shape = x_train[0].shape"
      ],
      "execution_count": 0,
      "outputs": []
    },
    {
      "cell_type": "code",
      "metadata": {
        "id": "1IbQBRGBCQdI",
        "colab_type": "code",
        "colab": {}
      },
      "source": [
        "network = Sequential()\n",
        "network.add(Conv2D(filters=32, kernel_size=(3,3), padding='same', input_shape=image_shape))\n",
        "network.add(MaxPooling2D(pool_size=(2,2)))\n",
        "network.add(Conv2D(filters=32, kernel_size=(3,3), padding='same', input_shape=image_shape))\n",
        "network.add(MaxPooling2D(pool_size=(2,2)))\n",
        "network.add(Conv2D(filters=64, kernel_size=(3,3), padding='same'))\n",
        "network.add(MaxPooling2D(pool_size=(2,2)))\n",
        "network.add(Conv2D(filters=64, kernel_size=(3,3), padding='same'))\n",
        "network.add(MaxPooling2D(pool_size=(2,2)))\n",
        "network.add(Conv2D(filters=128, kernel_size=(3,3), padding='same'))\n",
        "network.add(MaxPooling2D(pool_size=(2,2)))\n",
        "network.add(Conv2D(filters=128, kernel_size=(3,3), padding='same'))\n",
        "network.add(MaxPooling2D(pool_size=(1,1)))\n",
        "network.add(Conv2D(filters=256, kernel_size=(3,3), padding='same'))\n",
        "network.add(MaxPooling2D(pool_size=(1,1)))\n",
        "network.add(Conv2D(filters=256, kernel_size=(3,3), padding='same'))\n",
        "network.add(MaxPooling2D(pool_size=(1,1)))\n",
        "network.add(Conv2D(filters=512, kernel_size=(3,3), padding='same'))\n",
        "network.add(MaxPooling2D(pool_size=(1,1)))\n",
        "network.add(Conv2D(filters=512, kernel_size=(3,3), padding='same'))\n",
        "network.add(MaxPooling2D(pool_size=(1,1)))\n",
        "network.add(Conv2D(filters=1024, kernel_size=(3,3), padding='same'))\n",
        "network.add(MaxPooling2D(pool_size=(1,1)))\n",
        "network.add(Conv2D(filters=1024, kernel_size=(3,3), padding='same'))\n",
        "network.add(MaxPooling2D(pool_size=(1,1)))\n",
        "network.add(Conv2D(filters=1024, kernel_size=(3,3), padding='same'))\n",
        "network.add(MaxPooling2D(pool_size=(1,1)))\n",
        "network.add(Conv2D(filters=1024, kernel_size=(3,3), padding='same'))\n",
        "network.add(MaxPooling2D(pool_size=(1,1)))\n",
        "network.add(Flatten())\n",
        "network.add(Dense(units=1024, activation='relu'))\n",
        "network.add(Dense(units=len(persons), activation='softmax'))"
      ],
      "execution_count": 0,
      "outputs": []
    },
    {
      "cell_type": "code",
      "metadata": {
        "id": "L1tShJLnCRhK",
        "colab_type": "code",
        "colab": {}
      },
      "source": [
        "network.compile(optimizer='adam', loss = losses.categorical_hinge, metrics=['acc'])"
      ],
      "execution_count": 0,
      "outputs": []
    },
    {
      "cell_type": "code",
      "metadata": {
        "id": "NQwt6nOYCT3W",
        "colab_type": "code",
        "outputId": "0e567d73-01c6-4ba8-8990-be72b96af49f",
        "colab": {
          "base_uri": "https://localhost:8080/",
          "height": 52
        }
      },
      "source": [
        "print(x_train.shape)\n",
        "print(y_train.shape)"
      ],
      "execution_count": 44,
      "outputs": [
        {
          "output_type": "stream",
          "text": [
            "(2025, 62, 47, 1)\n",
            "(2025,)\n"
          ],
          "name": "stdout"
        }
      ]
    },
    {
      "cell_type": "code",
      "metadata": {
        "id": "XlwrDt31CU5R",
        "colab_type": "code",
        "colab": {}
      },
      "source": [
        "def one_hot(y, C):\n",
        "    y_one_hot = np.zeros((y.shape[0], C))\n",
        "\n",
        "    for i in range(y.shape[0]):\n",
        "        y_one_hot[i][int(y[i])] = 1\n",
        "    \n",
        "    return y_one_hot"
      ],
      "execution_count": 0,
      "outputs": []
    },
    {
      "cell_type": "code",
      "metadata": {
        "id": "VforwTKfCWCw",
        "colab_type": "code",
        "colab": {}
      },
      "source": [
        "y_train = one_hot(y_train, len(persons))"
      ],
      "execution_count": 0,
      "outputs": []
    },
    {
      "cell_type": "code",
      "metadata": {
        "id": "jJn-vSbnCXAM",
        "colab_type": "code",
        "outputId": "58089b9f-9dd6-4304-e0c9-740b8c32a172",
        "colab": {
          "base_uri": "https://localhost:8080/",
          "height": 52
        }
      },
      "source": [
        "print(y_train.shape)\n",
        "print(x_train.shape)"
      ],
      "execution_count": 47,
      "outputs": [
        {
          "output_type": "stream",
          "text": [
            "(2025, 62)\n",
            "(2025, 62, 47, 1)\n"
          ],
          "name": "stdout"
        }
      ]
    },
    {
      "cell_type": "code",
      "metadata": {
        "id": "mBcHhOQvCX6H",
        "colab_type": "code",
        "outputId": "c915cff7-30a3-41ab-ac61-32fc95cab586",
        "colab": {
          "base_uri": "https://localhost:8080/",
          "height": 712
        }
      },
      "source": [
        "history = network.fit(x_train, y_train, batch_size=64, epochs=20, verbose=1)"
      ],
      "execution_count": 48,
      "outputs": [
        {
          "output_type": "stream",
          "text": [
            "Epoch 1/20\n",
            "2025/2025 [==============================] - 397s 196ms/step - loss: 1.0006 - acc: 0.0519\n",
            "Epoch 2/20\n",
            "2025/2025 [==============================] - 375s 185ms/step - loss: 1.0010 - acc: 0.0365\n",
            "Epoch 3/20\n",
            "2025/2025 [==============================] - 390s 192ms/step - loss: 1.0006 - acc: 0.0390\n",
            "Epoch 4/20\n",
            "2025/2025 [==============================] - 393s 194ms/step - loss: 1.0002 - acc: 0.0444\n",
            "Epoch 5/20\n",
            "2025/2025 [==============================] - 386s 190ms/step - loss: 1.0001 - acc: 0.0612\n",
            "Epoch 6/20\n",
            "2025/2025 [==============================] - 407s 201ms/step - loss: 1.0001 - acc: 0.0588\n",
            "Epoch 7/20\n",
            "2025/2025 [==============================] - 403s 199ms/step - loss: 1.0001 - acc: 0.0464\n",
            "Epoch 8/20\n",
            "2025/2025 [==============================] - 402s 199ms/step - loss: 1.0001 - acc: 0.0425\n",
            "Epoch 9/20\n",
            "2025/2025 [==============================] - 406s 201ms/step - loss: 1.0001 - acc: 0.0479\n",
            "Epoch 10/20\n",
            "2025/2025 [==============================] - 420s 207ms/step - loss: 1.0001 - acc: 0.0558\n",
            "Epoch 11/20\n",
            "2025/2025 [==============================] - 427s 211ms/step - loss: 1.0001 - acc: 0.0489\n",
            "Epoch 12/20\n",
            "2025/2025 [==============================] - 451s 222ms/step - loss: 1.0001 - acc: 0.0583\n",
            "Epoch 13/20\n",
            "2025/2025 [==============================] - 429s 212ms/step - loss: 1.0001 - acc: 0.0588\n",
            "Epoch 14/20\n",
            "2025/2025 [==============================] - 412s 203ms/step - loss: 1.0000 - acc: 0.0519\n",
            "Epoch 15/20\n",
            "2025/2025 [==============================] - 384s 190ms/step - loss: 1.0000 - acc: 0.0721\n",
            "Epoch 16/20\n",
            "2025/2025 [==============================] - 358s 177ms/step - loss: 1.0000 - acc: 0.0607\n",
            "Epoch 17/20\n",
            "2025/2025 [==============================] - 348s 172ms/step - loss: 1.0000 - acc: 0.0499\n",
            "Epoch 18/20\n",
            "2025/2025 [==============================] - 367s 181ms/step - loss: 1.0001 - acc: 0.0494\n",
            "Epoch 19/20\n",
            "2025/2025 [==============================] - 360s 178ms/step - loss: 1.0000 - acc: 0.0568\n",
            "Epoch 20/20\n",
            "2025/2025 [==============================] - 367s 181ms/step - loss: 1.0000 - acc: 0.0553\n"
          ],
          "name": "stdout"
        }
      ]
    },
    {
      "cell_type": "code",
      "metadata": {
        "id": "t8GP1v6lCcs8",
        "colab_type": "code",
        "colab": {
          "base_uri": "https://localhost:8080/",
          "height": 34
        },
        "outputId": "e4ff4bf8-bea0-43ca-a3a7-b7d26ca2d228"
      },
      "source": [
        "shape = x_test.shape\n",
        "print(shape)"
      ],
      "execution_count": 24,
      "outputs": [
        {
          "output_type": "stream",
          "text": [
            "(998, 62, 47)\n"
          ],
          "name": "stdout"
        }
      ]
    },
    {
      "cell_type": "code",
      "metadata": {
        "id": "KAXgEC-eCfxi",
        "colab_type": "code",
        "colab": {
          "base_uri": "https://localhost:8080/",
          "height": 34
        },
        "outputId": "152aa5ac-812f-4ef9-b0ae-f30f359289df"
      },
      "source": [
        "y_test = one_hot(y_test, len(persons))\n",
        "print(y_test.shape)"
      ],
      "execution_count": 25,
      "outputs": [
        {
          "output_type": "stream",
          "text": [
            "(998, 62)\n"
          ],
          "name": "stdout"
        }
      ]
    },
    {
      "cell_type": "code",
      "metadata": {
        "id": "g507AU4ER-W2",
        "colab_type": "code",
        "colab": {
          "base_uri": "https://localhost:8080/",
          "height": 69
        },
        "outputId": "abac1757-cd91-4cbf-d576-1500dec6e2a0"
      },
      "source": [
        "print(y_test[0])"
      ],
      "execution_count": 26,
      "outputs": [
        {
          "output_type": "stream",
          "text": [
            "[0. 0. 0. 0. 0. 0. 1. 0. 0. 0. 0. 0. 0. 0. 0. 0. 0. 0. 0. 0. 0. 0. 0. 0.\n",
            " 0. 0. 0. 0. 0. 0. 0. 0. 0. 0. 0. 0. 0. 0. 0. 0. 0. 0. 0. 0. 0. 0. 0. 0.\n",
            " 0. 0. 0. 0. 0. 0. 0. 0. 0. 0. 0. 0. 0. 0.]\n"
          ],
          "name": "stdout"
        }
      ]
    },
    {
      "cell_type": "code",
      "metadata": {
        "id": "FaQJyFMuaeMm",
        "colab_type": "code",
        "colab": {
          "base_uri": "https://localhost:8080/",
          "height": 52
        },
        "outputId": "6595c589-b1d7-4587-fc88-36bd6a3a002b"
      },
      "source": [
        "network.evaluate(x_test.reshape(998, 62, 47, 1), y_test)"
      ],
      "execution_count": 27,
      "outputs": [
        {
          "output_type": "stream",
          "text": [
            "998/998 [==============================] - 3s 3ms/step\n"
          ],
          "name": "stdout"
        },
        {
          "output_type": "execute_result",
          "data": {
            "text/plain": [
              "[1.0000469030024772, 0.017034068136272545]"
            ]
          },
          "metadata": {
            "tags": []
          },
          "execution_count": 27
        }
      ]
    },
    {
      "cell_type": "code",
      "metadata": {
        "id": "hvjdrLOwHw06",
        "colab_type": "code",
        "colab": {}
      },
      "source": [
        ""
      ],
      "execution_count": 0,
      "outputs": []
    }
  ]
}