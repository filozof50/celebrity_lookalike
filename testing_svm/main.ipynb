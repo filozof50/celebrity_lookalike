{
 "cells": [
  {
   "cell_type": "code",
   "execution_count": 250,
   "metadata": {},
   "outputs": [],
   "source": [
    "import pickle\n",
    "import face_recognition\n",
    "from sklearn import svm\n",
    "import numpy as np\n",
    "from matplotlib import pyplot as plt\n",
    "import dlib\n",
    "import cv2"
   ]
  },
  {
   "cell_type": "code",
   "execution_count": 251,
   "metadata": {},
   "outputs": [],
   "source": [
    "def determine_name(person):\n",
    "    index = person[0].find('_')\n",
    "    name = person[0][ : index]\n",
    "    lastname = person[0][index + 1 : ]\n",
    "    person = name + \" \" + lastname\n",
    "    \n",
    "    return person"
   ]
  },
  {
   "cell_type": "code",
   "execution_count": 252,
   "metadata": {},
   "outputs": [],
   "source": [
    "def determine_percentage(probabilities):\n",
    "#     print(probabilities)\n",
    "    return str(int(np.max(probability) * 10000) / 100) + '%'"
   ]
  },
  {
   "cell_type": "code",
   "execution_count": 265,
   "metadata": {},
   "outputs": [],
   "source": [
    "someone_image = face_recognition.load_image_file('./Somi_i_ja.jpg')\n",
    "someone_encoding = face_recognition.face_encodings(someone_image)[0]"
   ]
  },
  {
   "cell_type": "code",
   "execution_count": 266,
   "metadata": {},
   "outputs": [],
   "source": [
    "svm = pickle.load(open('../svm_model', 'rb'))"
   ]
  },
  {
   "cell_type": "code",
   "execution_count": 267,
   "metadata": {},
   "outputs": [],
   "source": [
    "person = svm.predict(someone_encoding.reshape(1, someone_encoding.shape[0]))\n",
    "probability = svm.predict_proba(someone_encoding.reshape(1, someone_encoding.shape[0]))"
   ]
  },
  {
   "cell_type": "code",
   "execution_count": 268,
   "metadata": {},
   "outputs": [
    {
     "name": "stdout",
     "output_type": "stream",
     "text": [
      "5.32%\n"
     ]
    }
   ],
   "source": [
    "print(determine_percentage(probability))"
   ]
  },
  {
   "cell_type": "code",
   "execution_count": 269,
   "metadata": {},
   "outputs": [],
   "source": [
    "index = person[0].find('_')\n",
    "name = person[0][ : index]\n",
    "lastname = person[0][index + 1 : ]\n",
    "person = name + \" \" + lastname"
   ]
  },
  {
   "cell_type": "code",
   "execution_count": 270,
   "metadata": {},
   "outputs": [
    {
     "name": "stdout",
     "output_type": "stream",
     "text": [
      "Brad Pitt\n"
     ]
    }
   ],
   "source": [
    "print(person)"
   ]
  },
  {
   "cell_type": "code",
   "execution_count": 10,
   "metadata": {},
   "outputs": [],
   "source": [
    "from PIL import Image\n",
    "\n",
    "predictor_model = \"../shape_predictor_68_face_landmarks.dat\""
   ]
  },
  {
   "cell_type": "code",
   "execution_count": 272,
   "metadata": {},
   "outputs": [],
   "source": [
    "file_name = 'Somi_i_ja.jpg'\n",
    "image = face_recognition.load_image_file(file_name)\n",
    "img = cv2.imread(file_name)\n",
    "\n",
    "face_detector = dlib.get_frontal_face_detector()\n",
    "face_pose_predictor = dlib.shape_predictor(predictor_model)\n",
    "\n",
    "detected_faces = face_detector(image, 1)\n",
    "\n",
    "face_locations = face_recognition.face_locations(image)\n",
    "\n",
    "all = list(zip(face_locations, detected_faces))\n",
    "\n",
    "i = 0\n",
    "\n",
    "movement = 30\n",
    "\n",
    "for face_location, detected_face in all:\n",
    "    top, right, bottom, left = face_location\n",
    "        \n",
    "    face = image[top - movement : bottom + movement, left - movement : right + movement]\n",
    "\n",
    "    someone_encoding = face_recognition.face_encodings(face)[0]\n",
    "\n",
    "    name = determine_name(svm.predict(someone_encoding.reshape(1, someone_encoding.shape[0])))\n",
    "    probabilities = svm.predict_proba(someone_encoding.reshape(1, someone_encoding.shape[0]))\n",
    "    percentage = str(int(np.max(probabilities) * 10000) / 100) + '%'\n",
    "    \n",
    "    cv2.rectangle(img, (left, top), (right, bottom), (0, 0, 255), 2)\n",
    "    font = cv2.FONT_HERSHEY_DUPLEX\n",
    "    cv2.putText(img, name + ' ' + percentage, (left + 5, top - 5), font, 0.5, (0, 0, 255), 1)\n",
    "\n",
    "\n",
    "final_file = file_name[ : file_name.rfind('.')] + '_processed.jpg'\n",
    "cv2.imwrite(final_file, img)\n",
    "\n",
    "img = cv2.imread(final_file)\n",
    "win = dlib.image_window()\n",
    "win.set_image(img)"
   ]
  },
  {
   "cell_type": "code",
   "execution_count": 24,
   "metadata": {},
   "outputs": [],
   "source": [
    "someone_image = face_recognition.load_image_file('Gerard_Butler.jpg')\n",
    "someone_encoding = face_recognition.face_encodings(someone_image)[0]"
   ]
  },
  {
   "cell_type": "code",
   "execution_count": 25,
   "metadata": {},
   "outputs": [],
   "source": [
    "person = svm.predict(someone_encoding.reshape(1, someone_encoding.shape[0]))"
   ]
  },
  {
   "cell_type": "code",
   "execution_count": 26,
   "metadata": {},
   "outputs": [
    {
     "name": "stdout",
     "output_type": "stream",
     "text": [
      "Gerard Butler\n"
     ]
    }
   ],
   "source": [
    "print(determine_name(person))"
   ]
  },
  {
   "cell_type": "code",
   "execution_count": null,
   "metadata": {},
   "outputs": [],
   "source": []
  }
 ],
 "metadata": {
  "kernelspec": {
   "display_name": "Python 3",
   "language": "python",
   "name": "python3"
  },
  "language_info": {
   "codemirror_mode": {
    "name": "ipython",
    "version": 3
   },
   "file_extension": ".py",
   "mimetype": "text/x-python",
   "name": "python",
   "nbconvert_exporter": "python",
   "pygments_lexer": "ipython3",
   "version": "3.7.4"
  }
 },
 "nbformat": 4,
 "nbformat_minor": 2
}
