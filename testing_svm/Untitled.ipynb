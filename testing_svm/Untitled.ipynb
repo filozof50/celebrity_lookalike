{
 "cells": [
  {
   "cell_type": "code",
   "execution_count": 37,
   "metadata": {},
   "outputs": [],
   "source": [
    "import os, sys\n",
    "from IPython.display import display\n",
    "from IPython.display import Image as _Imgdis\n",
    "from PIL import Image\n",
    "import numpy as np\n",
    "from time import time\n",
    "from time import sleep\n",
    "from scipy import ndimage\n",
    "from keras.preprocessing.image import ImageDataGenerator, array_to_img, img_to_array, load_img\n",
    "import face_recognition\n",
    "import pickle\n",
    "from sklearn import svm"
   ]
  },
  {
   "cell_type": "code",
   "execution_count": 38,
   "metadata": {},
   "outputs": [],
   "source": [
    "svm = pickle.load(open('../svm_model', 'rb'))"
   ]
  },
  {
   "cell_type": "code",
   "execution_count": 39,
   "metadata": {},
   "outputs": [],
   "source": [
    "def determine_name(person):\n",
    "    index = person[0].find('_')\n",
    "    name = person[0][ : index]\n",
    "    lastname = person[0][index + 1 : ]\n",
    "    person = name + \" \" + lastname\n",
    "    \n",
    "    return person\n",
    "\n",
    "def determine_name_s(person):\n",
    "    index = person.find('_')\n",
    "    name = person[ : index]\n",
    "    lastname = person[index + 1 : ]\n",
    "    person = name + \" \" + lastname\n",
    "    \n",
    "    return person"
   ]
  },
  {
   "cell_type": "code",
   "execution_count": 40,
   "metadata": {},
   "outputs": [
    {
     "name": "stdout",
     "output_type": "stream",
     "text": [
      "1. ./celebrities/Anthony_Hopkins 2.jpeg\n",
      "2. ./celebrities/Anthony_Hopkins 1.jpeg\n",
      "3. ./celebrities/Kevin_Spacey 2.jpeg\n",
      "4. ./celebrities/Kevin_Spacey 1.jpeg\n",
      "5. ./celebrities/Morgan_Freeman 2.jpeg\n",
      "6. ./celebrities/Morgan_Freeman 1.jpeg\n",
      "7. ./celebrities/Jim_Carrey 2.jpeg\n",
      "8. ./celebrities/Jim_Carrey 1.jpeg\n",
      "9. ./celebrities/John_Travolta 2.jpeg\n",
      "10. ./celebrities/John_Travolta 1.jpeg\n",
      "11. ./celebrities/Tom_Hanks 2.jpeg\n",
      "12. ./celebrities/Tom_Hanks 1.jpeg\n",
      "13. ./celebrities/Halle_Berry 2.jpeg\n",
      "14. ./celebrities/Halle_Berry 1.jpeg\n",
      "15. ./celebrities/Billy_Zane 2.jpeg\n",
      "16. ./celebrities/Billy_Zane 1.jpeg\n",
      "17. ./celebrities/Angelina_Jolie 1.jpg\n",
      "18. ./celebrities/Angelina_Jolie 2.jpg\n",
      "19. ./celebrities/Robert_De_Niro 2.jpeg\n",
      "20. ./celebrities/Robert_De_Niro 1.jpeg\n",
      "21. ./celebrities/Al_Pacino 1.jpg\n",
      "22. ./celebrities/Al_Pacino 2.jpg\n",
      "23. ./celebrities/Edward_Norton 2.jpeg\n",
      "24. ./celebrities/Edward_Norton 1.jpeg\n",
      "25. ./celebrities/Salma_Hayek 2.jpeg\n",
      "26. ./celebrities/Salma_Hayek 1.jpeg\n",
      "27. ./celebrities/Nikola_Kojo 2.jpeg\n",
      "28. ./celebrities/Nikola_Kojo 1.jpeg\n",
      "29. ./celebrities/George_Clooney 2.jpeg\n",
      "30. ./celebrities/George_Clooney 1.jpeg\n",
      "31. ./celebrities/Natalie_Portman 2.jpeg\n",
      "32. ./celebrities/Natalie_Portman 1.jpeg\n",
      "33. ./celebrities/Benedict_Cumberbatch 1.jpg\n",
      "34. ./celebrities/Benedict_Cumberbatch 2.jpg\n",
      "35. ./celebrities/Tom_Hardy 2.jpeg\n",
      "36. ./celebrities/Tom_Hardy 1.jpeg\n",
      "37. ./celebrities/Emma_Watson 2.jpeg\n",
      "38. ./celebrities/Emma_Watson 1.jpeg\n",
      "39. ./celebrities/Jake_Gyllenhaal 2.jpeg\n",
      "40. ./celebrities/Jake_Gyllenhaal 1.jpeg\n",
      "41. ./celebrities/Antonio_Banderas 1.jpg\n",
      "42. ./celebrities/Antonio_Banderas 2.jpeg\n",
      "43. ./celebrities/Liam_Neeson 2.jpeg\n",
      "44. ./celebrities/Liam_Neeson 1.jpeg\n",
      "45. ./celebrities/Keanu_Reeves 2.jpeg\n",
      "46. ./celebrities/Keanu_Reeves 1.jpeg\n",
      "47. ./celebrities/Charlize_Theron 2.jpeg\n",
      "48. ./celebrities/Charlize_Theron 1.jpeg\n",
      "49. ./celebrities/Brad_Pitt 1.jpg\n",
      "50. ./celebrities/Brad_Pitt 2.jpg\n",
      "51. ./celebrities/The_Rock 2.jpeg\n",
      "52. ./celebrities/The_Rock 1.jpeg\n",
      "53. ./celebrities/Kate_Winslet 2.jpeg\n",
      "54. ./celebrities/Kate_Winslet 1.jpeg\n",
      "55. ./celebrities/Ryan_Gosling 2.jpeg\n",
      "56. ./celebrities/Ryan_Gosling 1.jpeg\n",
      "57. ./celebrities/Scarlett_Johansson 2.jpg\n",
      "58. ./celebrities/Scarlett_Johansson 1.jpeg\n",
      "59. ./celebrities/Denzel_Washington 2.jpeg\n",
      "60. ./celebrities/Denzel_Washington 1.jpeg\n",
      "61. ./celebrities/Jodie_Foster 2.jpeg\n",
      "62. ./celebrities/Jodie_Foster 1.jpeg\n",
      "63. ./celebrities/Jason_Statham 2.jpeg\n",
      "64. ./celebrities/Jason_Statham 1.jpeg\n",
      "65. ./celebrities/Vin_Diesel 2.jpeg\n",
      "66. ./celebrities/Vin_Diesel 1.jpeg\n",
      "67. ./celebrities/Nicolas_Cage 2.jpeg\n",
      "68. ./celebrities/Nicolas_Cage 1.jpeg\n",
      "69. ./celebrities/Bill_Gates 2.jpeg\n",
      "70. ./celebrities/Bill_Gates 1.jpeg\n",
      "71. ./celebrities/Jessica_Alba 2.jpeg\n",
      "72. ./celebrities/Jessica_Alba 1.jpeg\n",
      "73. ./celebrities/Russell_Crowe 2.jpeg\n",
      "74. ./celebrities/Russell_Crowe 1.jpeg\n",
      "75. ./celebrities/Matthew_Mcconaughey 1.jpg\n",
      "76. ./celebrities/Matthew_Mcconaughey 2.jpg\n",
      "77. ./celebrities/Michael_Jordan 2.jpeg\n",
      "78. ./celebrities/Michael_Jordan 1.jpeg\n",
      "79. ./celebrities/Tom_Cruise 2.jpeg\n",
      "80. ./celebrities/Tom_Cruise 1.jpeg\n",
      "81. ./celebrities/Cillian_Murphy 2.jpeg\n",
      "82. ./celebrities/Cillian_Murphy 1.jpeg\n",
      "83. ./celebrities/Uma_Thurman 2.jpeg\n",
      "84. ./celebrities/Uma_Thurman 1.jpeg\n",
      "85. ./celebrities/Monica_Bellucci 2.jpeg\n",
      "86. ./celebrities/Monica_Bellucci 1.jpeg\n",
      "87. ./celebrities/Bruce_Willis 2.jpeg\n",
      "88. ./celebrities/Bruce_Willis 1.jpeg\n",
      "89. ./celebrities/Sharon_Stone 2.jpeg\n",
      "90. ./celebrities/Sharon_Stone 1.jpeg\n",
      "91. ./celebrities/Matt_Damon 2.jpeg\n",
      "92. ./celebrities/Matt_Damon 1.jpeg\n",
      "93. ./celebrities/Leonardio_Di_Caprio 2.jpeg\n",
      "94. ./celebrities/Leonardio_Di_Caprio 1.jpeg\n",
      "95. ./celebrities/Gerard_Butler 1.jpg\n",
      "96. ./celebrities/Gerard_Butler 2.jpeg\n",
      "97. ./celebrities/Christian_Bale Christian_Bale.jpg\n",
      "98. ./celebrities/Christian_Bale 1.jpeg\n",
      "99. ./celebrities/Will_Smith 2.jpeg\n",
      "100. ./celebrities/Will_Smith 1.jpeg\n"
     ]
    }
   ],
   "source": [
    "rootdir = \"./celebrities/\"\n",
    "\n",
    "i=0\n",
    "\n",
    "mistakes = 0\n",
    "\n",
    "for subdir, dirs, files in os.walk(rootdir):\n",
    "    for file in files:\n",
    "        someone_image = face_recognition.load_image_file(os.path.join(subdir, file))\n",
    "        someone_encoding = face_recognition.face_encodings(someone_image)[0]\n",
    "        \n",
    "        predicted_name = determine_name(svm.predict(someone_encoding.reshape(1, someone_encoding.shape[0])))\n",
    "        real_name = determine_name_s(subdir[subdir.rfind('/') + 1 : ]) \n",
    "        \n",
    "        i = i + 1\n",
    "        \n",
    "        print(str(i) + '.', subdir, file)\n",
    "        \n",
    "        if predicted_name != real_name:\n",
    "            mistakes += 1"
   ]
  },
  {
   "cell_type": "code",
   "execution_count": 41,
   "metadata": {},
   "outputs": [
    {
     "name": "stdout",
     "output_type": "stream",
     "text": [
      "Number of misclassified celebrities:  0\n"
     ]
    }
   ],
   "source": [
    "print('Number of misclassified celebrities: ', mistakes)"
   ]
  },
  {
   "cell_type": "code",
   "execution_count": null,
   "metadata": {},
   "outputs": [],
   "source": []
  }
 ],
 "metadata": {
  "kernelspec": {
   "display_name": "Python 3",
   "language": "python",
   "name": "python3"
  },
  "language_info": {
   "codemirror_mode": {
    "name": "ipython",
    "version": 3
   },
   "file_extension": ".py",
   "mimetype": "text/x-python",
   "name": "python",
   "nbconvert_exporter": "python",
   "pygments_lexer": "ipython3",
   "version": "3.7.4"
  }
 },
 "nbformat": 4,
 "nbformat_minor": 2
}
