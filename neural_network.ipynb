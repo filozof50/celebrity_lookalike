{
 "cells": [
  {
   "cell_type": "code",
   "execution_count": 1,
   "metadata": {},
   "outputs": [
    {
     "name": "stderr",
     "output_type": "stream",
     "text": [
      "Using TensorFlow backend.\n"
     ]
    }
   ],
   "source": [
    "from sklearn import model_selection\n",
    "from keras import Sequential\n",
    "from keras import datasets\n",
    "from keras.layers import *\n",
    "from keras.models import *\n",
    "from keras.optimizers import Adam\n",
    "from keras import losses\n",
    "import matplotlib.pyplot as plt\n",
    "from keras.utils import to_categorical\n",
    "from keras.callbacks import EarlyStopping, ModelCheckpoint"
   ]
  },
  {
   "cell_type": "code",
   "execution_count": 2,
   "metadata": {},
   "outputs": [],
   "source": [
    "X = np.load('dataset_x.npy')\n",
    "Y = np.load('dataset_y.npy')"
   ]
  },
  {
   "cell_type": "code",
   "execution_count": 3,
   "metadata": {},
   "outputs": [
    {
     "name": "stdout",
     "output_type": "stream",
     "text": [
      "George W Bush\n"
     ]
    },
    {
     "data": {
      "image/png": "[encoded data removed]",
      "text/plain": [
       "<Figure size 432x288 with 1 Axes>"
      ]
     },
     "metadata": {
      "needs_background": "light"
     },
     "output_type": "display_data"
    }
   ],
   "source": [
    "index = 100\n",
    "\n",
    "plt.imshow(X[index])\n",
    "print(Y[index])"
   ]
  },
  {
   "cell_type": "code",
   "execution_count": 4,
   "metadata": {},
   "outputs": [
    {
     "name": "stdout",
     "output_type": "stream",
     "text": [
      "Alejandro Toledo 39\n",
      "Alvaro Uribe 35\n",
      "Amelie Mauresmo 21\n",
      "Andre Agassi 36\n",
      "Angelina Jolie 20\n",
      "Ariel Sharon 77\n",
      "Arnold Schwarzenegger 42\n",
      "Atal Bihari Vajpayee 24\n",
      "Bill Clinton 29\n",
      "Carlos Menem 21\n",
      "Colin Powell 236\n",
      "David Beckham 31\n",
      "Donald Rumsfeld 121\n",
      "George Robertson 22\n",
      "George W Bush 530\n",
      "Gerhard Schroeder 109\n",
      "Gloria Macapagal Arroyo 44\n",
      "Gray Davis 26\n",
      "Guillermo Coria 30\n",
      "Hamid Karzai 22\n",
      "Hans Blix 39\n",
      "Hugo Chavez 71\n",
      "Igor Ivanov 20\n",
      "Jack Straw 28\n",
      "Jacques Chirac 52\n",
      "Jean Chretien 55\n",
      "Jennifer Aniston 21\n",
      "Jennifer Capriati 42\n",
      "Jennifer Lopez 21\n",
      "Jeremy Greenstock 24\n",
      "Jiang Zemin 20\n",
      "John Ashcroft 53\n",
      "John Negroponte 31\n",
      "Jose Maria Aznar 23\n",
      "Juan Carlos Ferrero 28\n",
      "Junichiro Koizumi 60\n",
      "Kofi Annan 32\n",
      "Laura Bush 41\n",
      "Lindsay Davenport 22\n",
      "Lleyton Hewitt 41\n",
      "Luiz Inacio Lula da Silva 48\n",
      "Mahmoud Abbas 29\n",
      "Megawati Sukarnoputri 33\n",
      "Michael Bloomberg 20\n",
      "Naomi Watts 22\n",
      "Nestor Kirchner 37\n",
      "Paul Bremer 20\n",
      "Pete Sampras 22\n",
      "Recep Tayyip Erdogan 30\n",
      "Ricardo Lagos 27\n",
      "Roh Moo-hyun 32\n",
      "Rudolph Giuliani 26\n",
      "Saddam Hussein 23\n",
      "Serena Williams 52\n",
      "Silvio Berlusconi 33\n",
      "Tiger Woods 23\n",
      "Tom Daschle 25\n",
      "Tom Ridge 33\n",
      "Tony Blair 144\n",
      "Vicente Fox 32\n",
      "Vladimir Putin 49\n",
      "Winona Ryder 24\n"
     ]
    }
   ],
   "source": [
    "a, b = np.unique(Y, return_counts=True)\n",
    "counts = dict(zip(a, b))\n",
    "\n",
    "for item in counts:\n",
    "    print(item, counts[item])"
   ]
  },
  {
   "cell_type": "code",
   "execution_count": 5,
   "metadata": {},
   "outputs": [],
   "source": [
    "persons = dict(zip(np.unique(Y), enumerate(np.unique(Y))))"
   ]
  },
  {
   "cell_type": "code",
   "execution_count": 6,
   "metadata": {},
   "outputs": [],
   "source": [
    "for i in range(len(Y)):\n",
    "    Y[i] = persons[Y[i]][0]"
   ]
  },
  {
   "cell_type": "code",
   "execution_count": 7,
   "metadata": {},
   "outputs": [],
   "source": [
    "x_train, x_test, y_train, y_test = model_selection.train_test_split(X, Y, test_size = 0.33, stratify = Y)"
   ]
  },
  {
   "cell_type": "code",
   "execution_count": 8,
   "metadata": {},
   "outputs": [
    {
     "data": {
      "text/plain": [
       "([array([ 0.,  0., 29., 33.,  0.,  0.,  0.,  0.,  0.,  0.]),\n",
       "  array([ 0.,  5., 20., 37.,  0.,  0.,  0.,  0.,  0.,  0.]),\n",
       "  array([ 0.,  4., 22., 16., 20.,  0.,  0.,  0.,  0.,  0.]),\n",
       "  array([ 0.,  4., 16., 14., 28.,  0.,  0.,  0.,  0.,  0.]),\n",
       "  array([ 1.,  6.,  6., 18., 30.,  1.,  0.,  0.,  0.,  0.]),\n",
       "  array([ 4.,  2.,  4., 15., 34.,  3.,  0.,  0.,  0.,  0.]),\n",
       "  array([ 3.,  1.,  5., 12., 32.,  9.,  0.,  0.,  0.,  0.]),\n",
       "  array([ 2.,  1.,  3., 12., 31., 10.,  3.,  0.,  0.,  0.]),\n",
       "  array([ 1.,  0.,  1., 10., 35.,  9.,  6.,  0.,  0.,  0.]),\n",
       "  array([ 0.,  0.,  0.,  8., 41.,  4.,  6.,  3.,  0.,  0.]),\n",
       "  array([ 0.,  0.,  0.,  7., 43.,  5.,  5.,  2.,  0.,  0.]),\n",
       "  array([ 0.,  0.,  0.,  7., 43.,  9.,  3.,  0.,  0.,  0.]),\n",
       "  array([ 0.,  0.,  0.,  5., 43., 11.,  3.,  0.,  0.,  0.]),\n",
       "  array([ 0.,  0.,  0.,  2., 45., 11.,  4.,  0.,  0.,  0.]),\n",
       "  array([ 0.,  0.,  0.,  2., 36., 15.,  7.,  2.,  0.,  0.]),\n",
       "  array([ 0.,  0.,  0.,  3., 27., 17.,  9.,  6.,  0.,  0.]),\n",
       "  array([ 0.,  0.,  0.,  0., 23., 20., 14.,  3.,  2.,  0.]),\n",
       "  array([ 0.,  0.,  0.,  0., 15., 31., 10.,  3.,  2.,  1.]),\n",
       "  array([ 0.,  0.,  0.,  0., 14., 30., 12.,  4.,  2.,  0.]),\n",
       "  array([ 0.,  0.,  0.,  1., 13., 29., 14.,  5.,  0.,  0.]),\n",
       "  array([ 0.,  0.,  0.,  2., 17., 25., 14.,  4.,  0.,  0.]),\n",
       "  array([ 0.,  0.,  0.,  2., 20., 17., 18.,  5.,  0.,  0.]),\n",
       "  array([ 0.,  0.,  0.,  0., 21., 17., 19.,  5.,  0.,  0.]),\n",
       "  array([ 0.,  0.,  0.,  0., 18., 20., 17.,  7.,  0.,  0.]),\n",
       "  array([ 0.,  0.,  0.,  0., 14., 26., 16.,  6.,  0.,  0.]),\n",
       "  array([ 0.,  0.,  0.,  0., 19., 21., 18.,  4.,  0.,  0.]),\n",
       "  array([ 0.,  0.,  0.,  0., 13., 27., 21.,  1.,  0.,  0.]),\n",
       "  array([ 0.,  0.,  0.,  0., 15., 26., 21.,  0.,  0.,  0.]),\n",
       "  array([ 0.,  0.,  0.,  0., 14., 32., 16.,  0.,  0.,  0.]),\n",
       "  array([ 0.,  0.,  0.,  3.,  9., 32., 17.,  1.,  0.,  0.]),\n",
       "  array([ 0.,  0.,  2.,  2.,  8., 30., 17.,  3.,  0.,  0.]),\n",
       "  array([ 0.,  0.,  0.,  2., 11., 27., 17.,  5.,  0.,  0.]),\n",
       "  array([ 0.,  0.,  0.,  0., 14., 23., 12., 13.,  0.,  0.]),\n",
       "  array([ 0.,  0.,  0.,  0., 13., 20., 14., 14.,  1.,  0.]),\n",
       "  array([ 0.,  0.,  0.,  0., 14., 14., 21., 13.,  0.,  0.]),\n",
       "  array([ 0.,  0.,  0.,  0., 19.,  8., 25., 10.,  0.,  0.]),\n",
       "  array([ 0.,  0.,  0.,  1., 20.,  8., 27.,  5.,  1.,  0.]),\n",
       "  array([ 0.,  0.,  0.,  0., 23.,  9., 25.,  4.,  0.,  1.]),\n",
       "  array([ 0.,  0.,  0.,  0., 25., 10., 24.,  3.,  0.,  0.]),\n",
       "  array([ 0.,  0.,  0.,  0., 30.,  9., 21.,  2.,  0.,  0.]),\n",
       "  array([ 0.,  0.,  0.,  1., 33.,  5., 21.,  2.,  0.,  0.]),\n",
       "  array([ 0.,  0.,  0.,  1., 30.,  8., 21.,  2.,  0.,  0.]),\n",
       "  array([ 0.,  0.,  0.,  2., 28., 14., 18.,  0.,  0.,  0.]),\n",
       "  array([ 0.,  0.,  0.,  2., 30., 23.,  7.,  0.,  0.,  0.]),\n",
       "  array([ 0.,  0.,  0.,  4., 36., 22.,  0.,  0.,  0.,  0.]),\n",
       "  array([ 0.,  0.,  0.,  6., 46., 10.,  0.,  0.,  0.,  0.]),\n",
       "  array([ 0.,  0.,  0.,  6., 55.,  1.,  0.,  0.,  0.,  0.])],\n",
       " array([ 51. ,  63.2,  75.4,  87.6,  99.8, 112. , 124.2, 136.4, 148.6,\n",
       "        160.8, 173. ]),\n",
       " <a list of 47 Lists of Patches objects>)"
      ]
     },
     "execution_count": 8,
     "metadata": {},
     "output_type": "execute_result"
    },
    {
     "data": {
      "image/png": "[encoded data removed]",
      "text/plain": [
       "<Figure size 432x288 with 1 Axes>"
      ]
     },
     "metadata": {
      "needs_background": "light"
     },
     "output_type": "display_data"
    }
   ],
   "source": [
    "plt.hist(x_train[0])\n",
    "\n",
    "# Potrebna normalizacija"
   ]
  },
  {
   "cell_type": "code",
   "execution_count": 9,
   "metadata": {},
   "outputs": [],
   "source": [
    "x_train = x_train / 255\n",
    "x_test = x_test / 255"
   ]
  },
  {
   "cell_type": "code",
   "execution_count": 10,
   "metadata": {},
   "outputs": [],
   "source": [
    "x_train = np.expand_dims(x_train, axis = 3)"
   ]
  },
  {
   "cell_type": "code",
   "execution_count": 11,
   "metadata": {},
   "outputs": [],
   "source": [
    "image_shape = x_train[0].shape"
   ]
  },
  {
   "cell_type": "code",
   "execution_count": 12,
   "metadata": {},
   "outputs": [
    {
     "name": "stdout",
     "output_type": "stream",
     "text": [
      "WARNING:tensorflow:From /home/strahinja/anaconda3/lib/python3.7/site-packages/tensorflow/python/framework/op_def_library.py:263: colocate_with (from tensorflow.python.framework.ops) is deprecated and will be removed in a future version.\n",
      "Instructions for updating:\n",
      "Colocations handled automatically by placer.\n"
     ]
    }
   ],
   "source": [
    "network = Sequential()\n",
    "network.add(Conv2D(filters=32, kernel_size=(3,3), padding='same', input_shape=image_shape))\n",
    "network.add(MaxPooling2D(pool_size=(2,2)))\n",
    "network.add(Conv2D(filters=32, kernel_size=(3,3), padding='same', input_shape=image_shape))\n",
    "network.add(MaxPooling2D(pool_size=(2,2)))\n",
    "network.add(Conv2D(filters=64, kernel_size=(3,3), padding='same'))\n",
    "network.add(MaxPooling2D(pool_size=(2,2)))\n",
    "network.add(Conv2D(filters=64, kernel_size=(3,3), padding='same'))\n",
    "network.add(MaxPooling2D(pool_size=(2,2)))\n",
    "network.add(Conv2D(filters=128, kernel_size=(3,3), padding='same'))\n",
    "network.add(MaxPooling2D(pool_size=(2,2)))\n",
    "network.add(Conv2D(filters=128, kernel_size=(3,3), padding='same'))\n",
    "network.add(MaxPooling2D(pool_size=(1,1)))\n",
    "network.add(Conv2D(filters=256, kernel_size=(3,3), padding='same'))\n",
    "network.add(MaxPooling2D(pool_size=(1,1)))\n",
    "network.add(Conv2D(filters=256, kernel_size=(3,3), padding='same'))\n",
    "network.add(MaxPooling2D(pool_size=(1,1)))\n",
    "network.add(Conv2D(filters=512, kernel_size=(3,3), padding='same'))\n",
    "network.add(MaxPooling2D(pool_size=(1,1)))\n",
    "network.add(Conv2D(filters=512, kernel_size=(3,3), padding='same'))\n",
    "network.add(MaxPooling2D(pool_size=(1,1)))\n",
    "network.add(Conv2D(filters=1024, kernel_size=(3,3), padding='same'))\n",
    "network.add(MaxPooling2D(pool_size=(1,1)))\n",
    "network.add(Conv2D(filters=1024, kernel_size=(3,3), padding='same'))\n",
    "network.add(MaxPooling2D(pool_size=(1,1)))\n",
    "network.add(Conv2D(filters=1024, kernel_size=(3,3), padding='same'))\n",
    "network.add(MaxPooling2D(pool_size=(1,1)))\n",
    "network.add(Conv2D(filters=1024, kernel_size=(3,3), padding='same'))\n",
    "network.add(MaxPooling2D(pool_size=(1,1)))\n",
    "network.add(Flatten())\n",
    "network.add(Dense(units=1024, activation='relu'))\n",
    "network.add(Dense(units=len(persons), activation='softmax'))"
   ]
  },
  {
   "cell_type": "code",
   "execution_count": 13,
   "metadata": {},
   "outputs": [],
   "source": [
    "network.compile(optimizer='adam', loss = losses.categorical_hinge, metrics=['acc'])"
   ]
  },
  {
   "cell_type": "code",
   "execution_count": 14,
   "metadata": {},
   "outputs": [
    {
     "name": "stdout",
     "output_type": "stream",
     "text": [
      "(2025, 62, 47, 1)\n",
      "(2025,)\n"
     ]
    }
   ],
   "source": [
    "print(x_train.shape)\n",
    "print(y_train.shape)"
   ]
  },
  {
   "cell_type": "code",
   "execution_count": 15,
   "metadata": {},
   "outputs": [],
   "source": [
    "def one_hot(y, C):\n",
    "    y_one_hot = np.zeros((y.shape[0], C))\n",
    "\n",
    "    for i in range(y.shape[0]):\n",
    "        y_one_hot[i][int(y[i])] = 1\n",
    "    \n",
    "    return y_one_hot"
   ]
  },
  {
   "cell_type": "code",
   "execution_count": 16,
   "metadata": {},
   "outputs": [],
   "source": [
    "y_train = one_hot(y_train, len(persons))"
   ]
  },
  {
   "cell_type": "code",
   "execution_count": 17,
   "metadata": {},
   "outputs": [
    {
     "name": "stdout",
     "output_type": "stream",
     "text": [
      "(2025, 62)\n",
      "(2025, 62, 47, 1)\n"
     ]
    }
   ],
   "source": [
    "print(y_train.shape)\n",
    "print(x_train.shape)"
   ]
  },
  {
   "cell_type": "code",
   "execution_count": 18,
   "metadata": {},
   "outputs": [
    {
     "name": "stdout",
     "output_type": "stream",
     "text": [
      "WARNING:tensorflow:From /home/strahinja/anaconda3/lib/python3.7/site-packages/tensorflow/python/ops/math_ops.py:3066: to_int32 (from tensorflow.python.ops.math_ops) is deprecated and will be removed in a future version.\n",
      "Instructions for updating:\n",
      "Use tf.cast instead.\n",
      "WARNING:tensorflow:From /home/strahinja/anaconda3/lib/python3.7/site-packages/tensorflow/python/ops/math_grad.py:102: div (from tensorflow.python.ops.math_ops) is deprecated and will be removed in a future version.\n",
      "Instructions for updating:\n",
      "Deprecated in favor of operator or tf.math.divide.\n",
      "Epoch 1/10\n",
      "2025/2025 [==============================] - 66s 32ms/step - loss: 1.0004 - acc: 0.0370\n",
      "Epoch 2/10\n",
      "2025/2025 [==============================] - 65s 32ms/step - loss: 1.0005 - acc: 0.0425\n",
      "Epoch 3/10\n",
      " 384/2025 [====>.........................] - ETA: 59s - loss: 1.0004 - acc: 0.0391 "
     ]
    },
    {
     "ename": "KeyboardInterrupt",
     "evalue": "",
     "output_type": "error",
     "traceback": [
      "\u001b[0;31m---------------------------------------------------------------------------\u001b[0m",
      "\u001b[0;31mKeyboardInterrupt\u001b[0m                         Traceback (most recent call last)",
      "\u001b[0;32m<ipython-input-18-1e8451910440>\u001b[0m in \u001b[0;36m<module>\u001b[0;34m\u001b[0m\n\u001b[0;32m----> 1\u001b[0;31m \u001b[0mhistory\u001b[0m \u001b[0;34m=\u001b[0m \u001b[0mnetwork\u001b[0m\u001b[0;34m.\u001b[0m\u001b[0mfit\u001b[0m\u001b[0;34m(\u001b[0m\u001b[0mx_train\u001b[0m\u001b[0;34m,\u001b[0m \u001b[0my_train\u001b[0m\u001b[0;34m,\u001b[0m \u001b[0mbatch_size\u001b[0m\u001b[0;34m=\u001b[0m\u001b[0;36m64\u001b[0m\u001b[0;34m,\u001b[0m \u001b[0mepochs\u001b[0m\u001b[0;34m=\u001b[0m\u001b[0;36m10\u001b[0m\u001b[0;34m,\u001b[0m \u001b[0mverbose\u001b[0m\u001b[0;34m=\u001b[0m\u001b[0;36m1\u001b[0m\u001b[0;34m)\u001b[0m\u001b[0;34m\u001b[0m\u001b[0;34m\u001b[0m\u001b[0m\n\u001b[0m",
      "\u001b[0;32m~/anaconda3/lib/python3.7/site-packages/keras/engine/training.py\u001b[0m in \u001b[0;36mfit\u001b[0;34m(self, x, y, batch_size, epochs, verbose, callbacks, validation_split, validation_data, shuffle, class_weight, sample_weight, initial_epoch, steps_per_epoch, validation_steps, **kwargs)\u001b[0m\n\u001b[1;32m   1037\u001b[0m                                         \u001b[0minitial_epoch\u001b[0m\u001b[0;34m=\u001b[0m\u001b[0minitial_epoch\u001b[0m\u001b[0;34m,\u001b[0m\u001b[0;34m\u001b[0m\u001b[0;34m\u001b[0m\u001b[0m\n\u001b[1;32m   1038\u001b[0m                                         \u001b[0msteps_per_epoch\u001b[0m\u001b[0;34m=\u001b[0m\u001b[0msteps_per_epoch\u001b[0m\u001b[0;34m,\u001b[0m\u001b[0;34m\u001b[0m\u001b[0;34m\u001b[0m\u001b[0m\n\u001b[0;32m-> 1039\u001b[0;31m                                         validation_steps=validation_steps)\n\u001b[0m\u001b[1;32m   1040\u001b[0m \u001b[0;34m\u001b[0m\u001b[0m\n\u001b[1;32m   1041\u001b[0m     def evaluate(self, x=None, y=None,\n",
      "\u001b[0;32m~/anaconda3/lib/python3.7/site-packages/keras/engine/training_arrays.py\u001b[0m in \u001b[0;36mfit_loop\u001b[0;34m(model, f, ins, out_labels, batch_size, epochs, verbose, callbacks, val_f, val_ins, shuffle, callback_metrics, initial_epoch, steps_per_epoch, validation_steps)\u001b[0m\n\u001b[1;32m    197\u001b[0m                     \u001b[0mins_batch\u001b[0m\u001b[0;34m[\u001b[0m\u001b[0mi\u001b[0m\u001b[0;34m]\u001b[0m \u001b[0;34m=\u001b[0m \u001b[0mins_batch\u001b[0m\u001b[0;34m[\u001b[0m\u001b[0mi\u001b[0m\u001b[0;34m]\u001b[0m\u001b[0;34m.\u001b[0m\u001b[0mtoarray\u001b[0m\u001b[0;34m(\u001b[0m\u001b[0;34m)\u001b[0m\u001b[0;34m\u001b[0m\u001b[0;34m\u001b[0m\u001b[0m\n\u001b[1;32m    198\u001b[0m \u001b[0;34m\u001b[0m\u001b[0m\n\u001b[0;32m--> 199\u001b[0;31m                 \u001b[0mouts\u001b[0m \u001b[0;34m=\u001b[0m \u001b[0mf\u001b[0m\u001b[0;34m(\u001b[0m\u001b[0mins_batch\u001b[0m\u001b[0;34m)\u001b[0m\u001b[0;34m\u001b[0m\u001b[0;34m\u001b[0m\u001b[0m\n\u001b[0m\u001b[1;32m    200\u001b[0m                 \u001b[0mouts\u001b[0m \u001b[0;34m=\u001b[0m \u001b[0mto_list\u001b[0m\u001b[0;34m(\u001b[0m\u001b[0mouts\u001b[0m\u001b[0;34m)\u001b[0m\u001b[0;34m\u001b[0m\u001b[0;34m\u001b[0m\u001b[0m\n\u001b[1;32m    201\u001b[0m                 \u001b[0;32mfor\u001b[0m \u001b[0ml\u001b[0m\u001b[0;34m,\u001b[0m \u001b[0mo\u001b[0m \u001b[0;32min\u001b[0m \u001b[0mzip\u001b[0m\u001b[0;34m(\u001b[0m\u001b[0mout_labels\u001b[0m\u001b[0;34m,\u001b[0m \u001b[0mouts\u001b[0m\u001b[0;34m)\u001b[0m\u001b[0;34m:\u001b[0m\u001b[0;34m\u001b[0m\u001b[0;34m\u001b[0m\u001b[0m\n",
      "\u001b[0;32m~/anaconda3/lib/python3.7/site-packages/keras/backend/tensorflow_backend.py\u001b[0m in \u001b[0;36m__call__\u001b[0;34m(self, inputs)\u001b[0m\n\u001b[1;32m   2713\u001b[0m                 \u001b[0;32mreturn\u001b[0m \u001b[0mself\u001b[0m\u001b[0;34m.\u001b[0m\u001b[0m_legacy_call\u001b[0m\u001b[0;34m(\u001b[0m\u001b[0minputs\u001b[0m\u001b[0;34m)\u001b[0m\u001b[0;34m\u001b[0m\u001b[0;34m\u001b[0m\u001b[0m\n\u001b[1;32m   2714\u001b[0m \u001b[0;34m\u001b[0m\u001b[0m\n\u001b[0;32m-> 2715\u001b[0;31m             \u001b[0;32mreturn\u001b[0m \u001b[0mself\u001b[0m\u001b[0;34m.\u001b[0m\u001b[0m_call\u001b[0m\u001b[0;34m(\u001b[0m\u001b[0minputs\u001b[0m\u001b[0;34m)\u001b[0m\u001b[0;34m\u001b[0m\u001b[0;34m\u001b[0m\u001b[0m\n\u001b[0m\u001b[1;32m   2716\u001b[0m         \u001b[0;32melse\u001b[0m\u001b[0;34m:\u001b[0m\u001b[0;34m\u001b[0m\u001b[0;34m\u001b[0m\u001b[0m\n\u001b[1;32m   2717\u001b[0m             \u001b[0;32mif\u001b[0m \u001b[0mpy_any\u001b[0m\u001b[0;34m(\u001b[0m\u001b[0mis_tensor\u001b[0m\u001b[0;34m(\u001b[0m\u001b[0mx\u001b[0m\u001b[0;34m)\u001b[0m \u001b[0;32mfor\u001b[0m \u001b[0mx\u001b[0m \u001b[0;32min\u001b[0m \u001b[0minputs\u001b[0m\u001b[0;34m)\u001b[0m\u001b[0;34m:\u001b[0m\u001b[0;34m\u001b[0m\u001b[0;34m\u001b[0m\u001b[0m\n",
      "\u001b[0;32m~/anaconda3/lib/python3.7/site-packages/keras/backend/tensorflow_backend.py\u001b[0m in \u001b[0;36m_call\u001b[0;34m(self, inputs)\u001b[0m\n\u001b[1;32m   2673\u001b[0m             \u001b[0mfetched\u001b[0m \u001b[0;34m=\u001b[0m \u001b[0mself\u001b[0m\u001b[0;34m.\u001b[0m\u001b[0m_callable_fn\u001b[0m\u001b[0;34m(\u001b[0m\u001b[0;34m*\u001b[0m\u001b[0marray_vals\u001b[0m\u001b[0;34m,\u001b[0m \u001b[0mrun_metadata\u001b[0m\u001b[0;34m=\u001b[0m\u001b[0mself\u001b[0m\u001b[0;34m.\u001b[0m\u001b[0mrun_metadata\u001b[0m\u001b[0;34m)\u001b[0m\u001b[0;34m\u001b[0m\u001b[0;34m\u001b[0m\u001b[0m\n\u001b[1;32m   2674\u001b[0m         \u001b[0;32melse\u001b[0m\u001b[0;34m:\u001b[0m\u001b[0;34m\u001b[0m\u001b[0;34m\u001b[0m\u001b[0m\n\u001b[0;32m-> 2675\u001b[0;31m             \u001b[0mfetched\u001b[0m \u001b[0;34m=\u001b[0m \u001b[0mself\u001b[0m\u001b[0;34m.\u001b[0m\u001b[0m_callable_fn\u001b[0m\u001b[0;34m(\u001b[0m\u001b[0;34m*\u001b[0m\u001b[0marray_vals\u001b[0m\u001b[0;34m)\u001b[0m\u001b[0;34m\u001b[0m\u001b[0;34m\u001b[0m\u001b[0m\n\u001b[0m\u001b[1;32m   2676\u001b[0m         \u001b[0;32mreturn\u001b[0m \u001b[0mfetched\u001b[0m\u001b[0;34m[\u001b[0m\u001b[0;34m:\u001b[0m\u001b[0mlen\u001b[0m\u001b[0;34m(\u001b[0m\u001b[0mself\u001b[0m\u001b[0;34m.\u001b[0m\u001b[0moutputs\u001b[0m\u001b[0;34m)\u001b[0m\u001b[0;34m]\u001b[0m\u001b[0;34m\u001b[0m\u001b[0;34m\u001b[0m\u001b[0m\n\u001b[1;32m   2677\u001b[0m \u001b[0;34m\u001b[0m\u001b[0m\n",
      "\u001b[0;32m~/anaconda3/lib/python3.7/site-packages/tensorflow/python/client/session.py\u001b[0m in \u001b[0;36m__call__\u001b[0;34m(self, *args, **kwargs)\u001b[0m\n\u001b[1;32m   1437\u001b[0m           ret = tf_session.TF_SessionRunCallable(\n\u001b[1;32m   1438\u001b[0m               \u001b[0mself\u001b[0m\u001b[0;34m.\u001b[0m\u001b[0m_session\u001b[0m\u001b[0;34m.\u001b[0m\u001b[0m_session\u001b[0m\u001b[0;34m,\u001b[0m \u001b[0mself\u001b[0m\u001b[0;34m.\u001b[0m\u001b[0m_handle\u001b[0m\u001b[0;34m,\u001b[0m \u001b[0margs\u001b[0m\u001b[0;34m,\u001b[0m \u001b[0mstatus\u001b[0m\u001b[0;34m,\u001b[0m\u001b[0;34m\u001b[0m\u001b[0;34m\u001b[0m\u001b[0m\n\u001b[0;32m-> 1439\u001b[0;31m               run_metadata_ptr)\n\u001b[0m\u001b[1;32m   1440\u001b[0m         \u001b[0;32mif\u001b[0m \u001b[0mrun_metadata\u001b[0m\u001b[0;34m:\u001b[0m\u001b[0;34m\u001b[0m\u001b[0;34m\u001b[0m\u001b[0m\n\u001b[1;32m   1441\u001b[0m           \u001b[0mproto_data\u001b[0m \u001b[0;34m=\u001b[0m \u001b[0mtf_session\u001b[0m\u001b[0;34m.\u001b[0m\u001b[0mTF_GetBuffer\u001b[0m\u001b[0;34m(\u001b[0m\u001b[0mrun_metadata_ptr\u001b[0m\u001b[0;34m)\u001b[0m\u001b[0;34m\u001b[0m\u001b[0;34m\u001b[0m\u001b[0m\n",
      "\u001b[0;31mKeyboardInterrupt\u001b[0m: "
     ]
    }
   ],
   "source": [
    "history = network.fit(x_train, y_train, batch_size=64, epochs=10, verbose=1)"
   ]
  },
  {
   "cell_type": "code",
   "execution_count": null,
   "metadata": {},
   "outputs": [],
   "source": []
  }
 ],
 "metadata": {
  "kernelspec": {
   "display_name": "Python 3",
   "language": "python",
   "name": "python3"
  },
  "language_info": {
   "codemirror_mode": {
    "name": "ipython",
    "version": 3
   },
   "file_extension": ".py",
   "mimetype": "text/x-python",
   "name": "python",
   "nbconvert_exporter": "python",
   "pygments_lexer": "ipython3",
   "version": "3.7.4"
  }
 },
 "nbformat": 4,
 "nbformat_minor": 2
}
