{
  "nbformat": 4,
  "nbformat_minor": 0,
  "metadata": {
    "colab": {
      "name": "Untitled4.ipynb",
      "provenance": []
    },
    "kernelspec": {
      "name": "python3",
      "display_name": "Python 3"
    }
  },
  "cells": [
    {
      "cell_type": "code",
      "metadata": {
        "id": "vHMWz9uw-Jm5",
        "colab_type": "code",
        "colab": {
          "base_uri": "https://localhost:8080/",
          "height": 34
        },
        "outputId": "5e8e1da6-170f-41d9-ccee-ed71793bf155"
      },
      "source": [
        "from sklearn import model_selection\n",
        "from keras import Sequential\n",
        "from keras import datasets\n",
        "from keras.layers import *\n",
        "from keras.models import *\n",
        "from keras.optimizers import Adam\n",
        "from keras import losses\n",
        "import matplotlib.pyplot as plt\n",
        "from keras.utils import to_categorical\n",
        "from keras.callbacks import EarlyStopping, ModelCheckpoint\n",
        "import numpy as np"
      ],
      "execution_count": 1,
      "outputs": [
        {
          "output_type": "stream",
          "text": [
            "Using TensorFlow backend.\n"
          ],
          "name": "stderr"
        }
      ]
    },
    {
      "cell_type": "code",
      "metadata": {
        "id": "n3rYoSy9-bGt",
        "colab_type": "code",
        "outputId": "cc6eed52-ca4f-4630-f2a8-42ab6c8f6d91",
        "colab": {
          "base_uri": "https://localhost:8080/",
          "height": 124
        }
      },
      "source": [
        "from google.colab import drive\n",
        "drive.mount('/content/drive')"
      ],
      "execution_count": 2,
      "outputs": [
        {
          "output_type": "stream",
          "text": [
            "Go to this URL in a browser: https://accounts.google.com/o/oauth2/auth?client_id=947318989803-6bn6qk8qdgf4n4g3pfee6491hc0brc4i.apps.googleusercontent.com&redirect_uri=urn%3Aietf%3Awg%3Aoauth%3A2.0%3Aoob&scope=email%20https%3A%2F%2Fwww.googleapis.com%2Fauth%2Fdocs.test%20https%3A%2F%2Fwww.googleapis.com%2Fauth%2Fdrive%20https%3A%2F%2Fwww.googleapis.com%2Fauth%2Fdrive.photos.readonly%20https%3A%2F%2Fwww.googleapis.com%2Fauth%2Fpeopleapi.readonly&response_type=code\n",
            "\n",
            "Enter your authorization code:\n",
            "··········\n",
            "Mounted at /content/drive\n"
          ],
          "name": "stdout"
        }
      ]
    },
    {
      "cell_type": "code",
      "metadata": {
        "id": "PnYBl27u-clD",
        "colab_type": "code",
        "colab": {
          "base_uri": "https://localhost:8080/",
          "height": 86
        },
        "outputId": "d5f58ae4-26e8-46dc-bf8d-a2140f4e8c72"
      },
      "source": [
        "!unzip drive/My\\ Drive/dataset_ispravka.zip -d ."
      ],
      "execution_count": 3,
      "outputs": [
        {
          "output_type": "stream",
          "text": [
            "Archive:  drive/My Drive/dataset_ispravka.zip\n",
            "   creating: ./dataset_ispravka/\n",
            "  inflating: ./dataset_ispravka/dataset_y_ispravka.npy  \n",
            "  inflating: ./dataset_ispravka/dataset_x_ispravka.npy  \n"
          ],
          "name": "stdout"
        }
      ]
    },
    {
      "cell_type": "code",
      "metadata": {
        "id": "diU_dFQ2QI_K",
        "colab_type": "code",
        "colab": {}
      },
      "source": [
        "X = np.load('dataset_ispravka/dataset_x_ispravka.npy')\n",
        "Y = np.load('dataset_ispravka/dataset_y_ispravka.npy')"
      ],
      "execution_count": 0,
      "outputs": []
    },
    {
      "cell_type": "code",
      "metadata": {
        "id": "UsGWh_o7-whG",
        "colab_type": "code",
        "outputId": "2aa27692-af0e-4bea-c2c8-74c4712bb530",
        "colab": {
          "base_uri": "https://localhost:8080/",
          "height": 286
        }
      },
      "source": [
        "index = 23\n",
        "\n",
        "plt.imshow(X[index], cmap = 'gray')\n",
        "print(Y[index])"
      ],
      "execution_count": 5,
      "outputs": [
        {
          "output_type": "stream",
          "text": [
            "George W Bush\n"
          ],
          "name": "stdout"
        },
        {
          "output_type": "display_data",
          "data": {
            "image/png": "[encoded data removed]",
            "text/plain": [
              "<Figure size 432x288 with 1 Axes>"
            ]
          },
          "metadata": {
            "tags": []
          }
        }
      ]
    },
    {
      "cell_type": "code",
      "metadata": {
        "id": "_Pum5HIUCBDC",
        "colab_type": "code",
        "outputId": "ecdc3497-a8ab-442c-9e7d-b2b3f8b12b83",
        "colab": {
          "base_uri": "https://localhost:8080/",
          "height": 1000
        }
      },
      "source": [
        "a, b = np.unique(Y, return_counts=True)\n",
        "counts = dict(zip(a, b))\n",
        "\n",
        "for item in counts:\n",
        "    print(item, counts[item])"
      ],
      "execution_count": 6,
      "outputs": [
        {
          "output_type": "stream",
          "text": [
            "Alejandro Toledo 39\n",
            "Alvaro Uribe 35\n",
            "Amelie Mauresmo 21\n",
            "Andre Agassi 36\n",
            "Angelina Jolie 20\n",
            "Ariel Sharon 77\n",
            "Arnold Schwarzenegger 42\n",
            "Atal Bihari Vajpayee 24\n",
            "Bill Clinton 29\n",
            "Carlos Menem 21\n",
            "Colin Powell 236\n",
            "David Beckham 31\n",
            "Donald Rumsfeld 121\n",
            "George Robertson 22\n",
            "George W Bush 530\n",
            "Gerhard Schroeder 109\n",
            "Gloria Macapagal Arroyo 44\n",
            "Gray Davis 26\n",
            "Guillermo Coria 30\n",
            "Hamid Karzai 22\n",
            "Hans Blix 39\n",
            "Hugo Chavez 71\n",
            "Igor Ivanov 20\n",
            "Jack Straw 28\n",
            "Jacques Chirac 52\n",
            "Jean Chretien 55\n",
            "Jennifer Aniston 21\n",
            "Jennifer Capriati 42\n",
            "Jennifer Lopez 21\n",
            "Jeremy Greenstock 24\n",
            "Jiang Zemin 20\n",
            "John Ashcroft 53\n",
            "John Negroponte 31\n",
            "Jose Maria Aznar 23\n",
            "Juan Carlos Ferrero 28\n",
            "Junichiro Koizumi 60\n",
            "Kofi Annan 32\n",
            "Laura Bush 41\n",
            "Lindsay Davenport 22\n",
            "Lleyton Hewitt 41\n",
            "Luiz Inacio Lula da Silva 48\n",
            "Mahmoud Abbas 29\n",
            "Megawati Sukarnoputri 33\n",
            "Michael Bloomberg 20\n",
            "Naomi Watts 22\n",
            "Nestor Kirchner 37\n",
            "Paul Bremer 20\n",
            "Pete Sampras 22\n",
            "Recep Tayyip Erdogan 30\n",
            "Ricardo Lagos 27\n",
            "Roh Moo-hyun 32\n",
            "Rudolph Giuliani 26\n",
            "Saddam Hussein 23\n",
            "Serena Williams 52\n",
            "Silvio Berlusconi 33\n",
            "Tiger Woods 23\n",
            "Tom Daschle 25\n",
            "Tom Ridge 33\n",
            "Tony Blair 144\n",
            "Vicente Fox 32\n",
            "Vladimir Putin 49\n",
            "Winona Ryder 24\n"
          ],
          "name": "stdout"
        }
      ]
    },
    {
      "cell_type": "code",
      "metadata": {
        "id": "eQSaO3y6CCex",
        "colab_type": "code",
        "colab": {}
      },
      "source": [
        "persons = dict(zip(np.unique(Y), enumerate(np.unique(Y))))"
      ],
      "execution_count": 0,
      "outputs": []
    },
    {
      "cell_type": "code",
      "metadata": {
        "id": "R_XuIZd5CD-g",
        "colab_type": "code",
        "colab": {}
      },
      "source": [
        "for i in range(len(Y)):\n",
        "    Y[i] = persons[Y[i]][0]"
      ],
      "execution_count": 0,
      "outputs": []
    },
    {
      "cell_type": "code",
      "metadata": {
        "id": "lkhVWInSCFLf",
        "colab_type": "code",
        "outputId": "e96c2fc0-cef5-4142-a3b2-e7f8d8784d76",
        "colab": {
          "base_uri": "https://localhost:8080/",
          "height": 34
        }
      },
      "source": [
        "print(Y)"
      ],
      "execution_count": 9,
      "outputs": [
        {
          "output_type": "stream",
          "text": [
            "['61' '25' '9' ... '14' '15' '14']\n"
          ],
          "name": "stdout"
        }
      ]
    },
    {
      "cell_type": "code",
      "metadata": {
        "id": "_y3xWyi1CGT0",
        "colab_type": "code",
        "colab": {}
      },
      "source": [
        "x_train, x_test, y_train, y_test = model_selection.train_test_split(X, Y, test_size = 0.33, stratify = Y)"
      ],
      "execution_count": 0,
      "outputs": []
    },
    {
      "cell_type": "code",
      "metadata": {
        "id": "2f-nEd1KCHuk",
        "colab_type": "code",
        "outputId": "aba17da5-b2d7-447a-d6dd-3f312e118354",
        "colab": {
          "base_uri": "https://localhost:8080/",
          "height": 1000
        }
      },
      "source": [
        "plt.hist(x_train[0])\n",
        "\n",
        "# Potrebna normalizacija"
      ],
      "execution_count": 11,
      "outputs": [
        {
          "output_type": "execute_result",
          "data": {
            "text/plain": [
              "([array([ 0.,  0.,  0.,  0.,  0., 17.,  2.,  5., 38.,  0.]),\n",
              "  array([ 0.,  0.,  0.,  0.,  0., 13.,  9., 13., 27.,  0.]),\n",
              "  array([ 0.,  0.,  0.,  0.,  0.,  5., 25., 21., 11.,  0.]),\n",
              "  array([ 0.,  0.,  0.,  0.,  3., 11., 34.,  4., 10.,  0.]),\n",
              "  array([ 0.,  0.,  0.,  0.,  3., 20., 28.,  6.,  5.,  0.]),\n",
              "  array([ 0.,  0.,  0.,  1.,  4., 13., 36.,  6.,  2.,  0.]),\n",
              "  array([ 0.,  0.,  1.,  2.,  1., 10., 30., 14.,  4.,  0.]),\n",
              "  array([ 0.,  1.,  1.,  1.,  2., 11., 27., 17.,  2.,  0.]),\n",
              "  array([ 0.,  0.,  1.,  3.,  3., 11., 31., 13.,  0.,  0.]),\n",
              "  array([ 0.,  0.,  0.,  3.,  7., 16., 17., 19.,  0.,  0.]),\n",
              "  array([ 0.,  0.,  0.,  2.,  6., 17., 17., 20.,  0.,  0.]),\n",
              "  array([ 0.,  1.,  1.,  1.,  6., 15., 16., 21.,  1.,  0.]),\n",
              "  array([ 0.,  1.,  1.,  1.,  7., 14., 18., 10., 10.,  0.]),\n",
              "  array([ 0.,  0.,  0.,  3.,  6., 19., 12.,  9., 13.,  0.]),\n",
              "  array([ 0.,  0.,  0.,  0.,  6., 12., 15., 13., 16.,  0.]),\n",
              "  array([ 0.,  0.,  0.,  1.,  1.,  9., 17., 13., 21.,  0.]),\n",
              "  array([ 0.,  0.,  0.,  0.,  2.,  7., 12., 12., 29.,  0.]),\n",
              "  array([ 0.,  0.,  0.,  0.,  1.,  6., 12., 11., 30.,  2.]),\n",
              "  array([ 0.,  0.,  0.,  0.,  1.,  4.,  8., 17., 31.,  1.]),\n",
              "  array([ 0.,  0.,  0.,  0.,  1.,  5.,  5., 18., 32.,  1.]),\n",
              "  array([ 0.,  0.,  0.,  0.,  1.,  3.,  8., 17., 29.,  4.]),\n",
              "  array([ 0.,  0.,  0.,  0.,  0.,  4.,  9., 14., 26.,  9.]),\n",
              "  array([ 0.,  0.,  0.,  0.,  1.,  5.,  5., 16., 24., 11.]),\n",
              "  array([ 0.,  0.,  0.,  0.,  2.,  3.,  7., 14., 25., 11.]),\n",
              "  array([ 0.,  0.,  0.,  1.,  1.,  4.,  8.,  9., 25., 14.]),\n",
              "  array([ 0.,  0.,  0.,  0.,  4.,  2.,  7., 11., 24., 14.]),\n",
              "  array([ 0.,  0.,  0.,  1.,  4.,  1.,  7., 10., 25., 14.]),\n",
              "  array([ 0.,  0.,  0.,  2.,  2.,  3.,  4., 16., 20., 15.]),\n",
              "  array([ 0.,  0.,  1.,  0.,  1.,  4.,  8., 11., 18., 19.]),\n",
              "  array([ 0.,  0.,  0.,  1.,  0.,  2.,  9., 12., 15., 23.]),\n",
              "  array([ 0.,  0.,  0.,  0.,  1.,  0.,  8., 15., 13., 25.]),\n",
              "  array([ 0.,  0.,  0.,  0.,  0.,  2.,  2., 14., 16., 28.]),\n",
              "  array([ 0.,  0.,  0.,  0.,  0.,  2.,  3.,  9., 17., 31.]),\n",
              "  array([ 0.,  0.,  0.,  0.,  0.,  2.,  2., 11., 15., 32.]),\n",
              "  array([ 0.,  0.,  0.,  0.,  0.,  3.,  1., 13., 13., 32.]),\n",
              "  array([ 0.,  0.,  0.,  0.,  0.,  2.,  3., 12., 13., 32.]),\n",
              "  array([ 0.,  0.,  0.,  0.,  0.,  1.,  5.,  8., 14., 34.]),\n",
              "  array([ 0.,  0.,  0.,  0.,  0.,  1.,  5.,  9., 17., 30.]),\n",
              "  array([ 0.,  0.,  0.,  0.,  0.,  0.,  5., 13., 12., 32.]),\n",
              "  array([ 0.,  0.,  0.,  0.,  0.,  0.,  4., 13.,  8., 37.]),\n",
              "  array([ 0.,  0.,  0.,  0.,  0.,  0.,  3., 12., 20., 27.]),\n",
              "  array([ 0.,  0.,  0.,  0.,  0.,  0.,  3., 11., 31., 17.]),\n",
              "  array([ 0.,  0.,  0.,  0.,  0.,  0.,  4., 11., 33., 14.]),\n",
              "  array([ 0.,  0.,  0.,  0.,  0.,  0.,  0., 23., 23., 16.]),\n",
              "  array([ 0.,  0.,  0.,  0.,  0.,  0.,  2., 26., 15., 19.]),\n",
              "  array([ 0.,  0.,  0.,  1.,  1.,  3.,  5., 14., 25., 13.]),\n",
              "  array([ 3.,  2.,  1.,  1.,  1.,  2.,  2., 13., 17., 20.])],\n",
              " array([ 25.      ,  42.433334,  59.866665,  77.299995,  94.73333 ,\n",
              "        112.166664, 129.59999 , 147.03333 , 164.46666 , 181.9     ,\n",
              "        199.33333 ], dtype=float32),\n",
              " <a list of 47 Lists of Patches objects>)"
            ]
          },
          "metadata": {
            "tags": []
          },
          "execution_count": 11
        },
        {
          "output_type": "display_data",
          "data": {
            "image/png": "[encoded data removed]",
            "text/plain": [
              "<Figure size 432x288 with 1 Axes>"
            ]
          },
          "metadata": {
            "tags": []
          }
        }
      ]
    },
    {
      "cell_type": "code",
      "metadata": {
        "id": "0qwWyhNQCMeu",
        "colab_type": "code",
        "colab": {}
      },
      "source": [
        "x_train = x_train / 255\n",
        "x_test = x_test / 255"
      ],
      "execution_count": 0,
      "outputs": []
    },
    {
      "cell_type": "code",
      "metadata": {
        "id": "lq6pUhtJCN6a",
        "colab_type": "code",
        "colab": {}
      },
      "source": [
        "x_train = np.expand_dims(x_train, axis = 3)"
      ],
      "execution_count": 0,
      "outputs": []
    },
    {
      "cell_type": "code",
      "metadata": {
        "id": "5IEF4W1cCPEE",
        "colab_type": "code",
        "colab": {}
      },
      "source": [
        "image_shape = x_train[0].shape"
      ],
      "execution_count": 0,
      "outputs": []
    },
    {
      "cell_type": "code",
      "metadata": {
        "id": "1IbQBRGBCQdI",
        "colab_type": "code",
        "colab": {
          "base_uri": "https://localhost:8080/",
          "height": 156
        },
        "outputId": "834fdff6-5f65-4f13-93cb-078f8aba8c46"
      },
      "source": [
        "network = Sequential()\n",
        "network.add(Conv2D(filters=64, kernel_size=(3,3), padding='same', input_shape=image_shape))\n",
        "network.add(Conv2D(filters=64, kernel_size=(3,3), padding='same', activation='relu'))\n",
        "network.add(MaxPooling2D(strides = (2,2), pool_size=(2,2)))\n",
        "network.add(Conv2D(filters=64, kernel_size=(3,3), padding='same', activation='relu'))\n",
        "network.add(Conv2D(filters=64, kernel_size=(3,3), padding='same', activation='relu'))\n",
        "network.add(MaxPooling2D(strides = (2,2), pool_size=(2,2)))\n",
        "network.add(Conv2D(filters=64, kernel_size=(3,3), padding='same', activation='relu'))\n",
        "network.add(Conv2D(filters=64, kernel_size=(3,3), padding='same', activation='relu'))\n",
        "network.add(Conv2D(filters=64, kernel_size=(3,3), padding='same', activation='relu'))\n",
        "network.add(MaxPooling2D(strides = (2,2), pool_size=(2,2)))\n",
        "network.add(Conv2D(filters=64, kernel_size=(3,3), padding='same', activation='relu'))\n",
        "network.add(Conv2D(filters=64, kernel_size=(3,3), padding='same', activation='relu'))\n",
        "network.add(Conv2D(filters=64, kernel_size=(3,3), padding='same', activation='relu'))\n",
        "network.add(MaxPooling2D(strides = (2,2), pool_size=(2,2)))\n",
        "network.add(Conv2D(filters=64, kernel_size=(3,3), padding='same', activation='relu'))\n",
        "network.add(Conv2D(filters=64, kernel_size=(3,3), padding='same', activation='relu'))\n",
        "network.add(Conv2D(filters=64, kernel_size=(3,3), padding='same', activation='relu'))\n",
        "network.add(MaxPooling2D(strides = (2,2), pool_size=(2,2)))\n",
        "network.add(Flatten())\n",
        "network.add(Dense(units=4608, activation='relu'))\n",
        "network.add(Dense(units=4608, activation='relu'))\n",
        "network.add(Dense(units=1000, activation='relu'))\n",
        "network.add(Dense(units=len(persons), activation='softmax'))"
      ],
      "execution_count": 15,
      "outputs": [
        {
          "output_type": "stream",
          "text": [
            "WARNING:tensorflow:From /usr/local/lib/python3.6/dist-packages/keras/backend/tensorflow_backend.py:66: The name tf.get_default_graph is deprecated. Please use tf.compat.v1.get_default_graph instead.\n",
            "\n",
            "WARNING:tensorflow:From /usr/local/lib/python3.6/dist-packages/keras/backend/tensorflow_backend.py:541: The name tf.placeholder is deprecated. Please use tf.compat.v1.placeholder instead.\n",
            "\n",
            "WARNING:tensorflow:From /usr/local/lib/python3.6/dist-packages/keras/backend/tensorflow_backend.py:4432: The name tf.random_uniform is deprecated. Please use tf.random.uniform instead.\n",
            "\n",
            "WARNING:tensorflow:From /usr/local/lib/python3.6/dist-packages/keras/backend/tensorflow_backend.py:4267: The name tf.nn.max_pool is deprecated. Please use tf.nn.max_pool2d instead.\n",
            "\n"
          ],
          "name": "stdout"
        }
      ]
    },
    {
      "cell_type": "code",
      "metadata": {
        "id": "L1tShJLnCRhK",
        "colab_type": "code",
        "colab": {
          "base_uri": "https://localhost:8080/",
          "height": 52
        },
        "outputId": "c7b3e404-0e92-41c2-f653-dc7f203a55b3"
      },
      "source": [
        "network.compile(optimizer='adam', loss = losses.categorical_hinge, metrics=['acc'])"
      ],
      "execution_count": 16,
      "outputs": [
        {
          "output_type": "stream",
          "text": [
            "WARNING:tensorflow:From /usr/local/lib/python3.6/dist-packages/keras/optimizers.py:793: The name tf.train.Optimizer is deprecated. Please use tf.compat.v1.train.Optimizer instead.\n",
            "\n"
          ],
          "name": "stdout"
        }
      ]
    },
    {
      "cell_type": "code",
      "metadata": {
        "id": "NQwt6nOYCT3W",
        "colab_type": "code",
        "outputId": "5ebf15d3-5be3-4830-c5ab-a6c7c55b2b63",
        "colab": {
          "base_uri": "https://localhost:8080/",
          "height": 52
        }
      },
      "source": [
        "print(x_train.shape)\n",
        "print(y_train.shape)"
      ],
      "execution_count": 17,
      "outputs": [
        {
          "output_type": "stream",
          "text": [
            "(2025, 62, 47, 1)\n",
            "(2025,)\n"
          ],
          "name": "stdout"
        }
      ]
    },
    {
      "cell_type": "code",
      "metadata": {
        "id": "XlwrDt31CU5R",
        "colab_type": "code",
        "colab": {}
      },
      "source": [
        "def one_hot(y, C):\n",
        "    y_one_hot = np.zeros((y.shape[0], C))\n",
        "\n",
        "    for i in range(y.shape[0]):\n",
        "        y_one_hot[i][int(y[i])] = 1\n",
        "    \n",
        "    return y_one_hot"
      ],
      "execution_count": 0,
      "outputs": []
    },
    {
      "cell_type": "code",
      "metadata": {
        "id": "VforwTKfCWCw",
        "colab_type": "code",
        "colab": {}
      },
      "source": [
        "y_train = one_hot(y_train, len(persons))"
      ],
      "execution_count": 0,
      "outputs": []
    },
    {
      "cell_type": "code",
      "metadata": {
        "id": "jJn-vSbnCXAM",
        "colab_type": "code",
        "outputId": "63dc4a98-71d1-468e-f5c1-0a78c6b99786",
        "colab": {
          "base_uri": "https://localhost:8080/",
          "height": 52
        }
      },
      "source": [
        "print(y_train.shape)\n",
        "print(x_train.shape)"
      ],
      "execution_count": 20,
      "outputs": [
        {
          "output_type": "stream",
          "text": [
            "(2025, 62)\n",
            "(2025, 62, 47, 1)\n"
          ],
          "name": "stdout"
        }
      ]
    },
    {
      "cell_type": "code",
      "metadata": {
        "id": "mBcHhOQvCX6H",
        "colab_type": "code",
        "outputId": "9ec82ee3-3310-4c06-aad4-236b5c3410fb",
        "colab": {
          "base_uri": "https://localhost:8080/",
          "height": 853
        }
      },
      "source": [
        "history = network.fit(x_train, y_train, batch_size=64, epochs=20, verbose=1)"
      ],
      "execution_count": 21,
      "outputs": [
        {
          "output_type": "stream",
          "text": [
            "WARNING:tensorflow:From /usr/local/lib/python3.6/dist-packages/tensorflow/python/ops/math_grad.py:1250: add_dispatch_support.<locals>.wrapper (from tensorflow.python.ops.array_ops) is deprecated and will be removed in a future version.\n",
            "Instructions for updating:\n",
            "Use tf.where in 2.0, which has the same broadcast rule as np.where\n",
            "WARNING:tensorflow:From /usr/local/lib/python3.6/dist-packages/keras/backend/tensorflow_backend.py:1033: The name tf.assign_add is deprecated. Please use tf.compat.v1.assign_add instead.\n",
            "\n",
            "WARNING:tensorflow:From /usr/local/lib/python3.6/dist-packages/keras/backend/tensorflow_backend.py:1020: The name tf.assign is deprecated. Please use tf.compat.v1.assign instead.\n",
            "\n",
            "Epoch 1/20\n",
            "2025/2025 [==============================] - 68s 34ms/step - loss: 1.0002 - acc: 0.0351\n",
            "Epoch 2/20\n",
            "2025/2025 [==============================] - 66s 33ms/step - loss: 1.0002 - acc: 0.0281\n",
            "Epoch 3/20\n",
            "2025/2025 [==============================] - 67s 33ms/step - loss: 1.0001 - acc: 0.0568\n",
            "Epoch 4/20\n",
            "2025/2025 [==============================] - 65s 32ms/step - loss: 1.0001 - acc: 0.0430\n",
            "Epoch 5/20\n",
            "2025/2025 [==============================] - 65s 32ms/step - loss: 1.0001 - acc: 0.0568\n",
            "Epoch 6/20\n",
            "2025/2025 [==============================] - 65s 32ms/step - loss: 1.0001 - acc: 0.0583\n",
            "Epoch 7/20\n",
            "2025/2025 [==============================] - 66s 32ms/step - loss: 1.0001 - acc: 0.0588\n",
            "Epoch 8/20\n",
            "2025/2025 [==============================] - 65s 32ms/step - loss: 1.0001 - acc: 0.0558\n",
            "Epoch 9/20\n",
            "2025/2025 [==============================] - 64s 32ms/step - loss: 1.0000 - acc: 0.0588\n",
            "Epoch 10/20\n",
            "2025/2025 [==============================] - 65s 32ms/step - loss: 1.0000 - acc: 0.0533\n",
            "Epoch 11/20\n",
            "2025/2025 [==============================] - 65s 32ms/step - loss: 1.0000 - acc: 0.0588\n",
            "Epoch 12/20\n",
            "2025/2025 [==============================] - 65s 32ms/step - loss: 1.0000 - acc: 0.0479\n",
            "Epoch 13/20\n",
            "2025/2025 [==============================] - 66s 33ms/step - loss: 1.0001 - acc: 0.0578\n",
            "Epoch 14/20\n",
            "2025/2025 [==============================] - 65s 32ms/step - loss: 1.0000 - acc: 0.0479\n",
            "Epoch 15/20\n",
            "2025/2025 [==============================] - 66s 32ms/step - loss: 1.0000 - acc: 0.0662\n",
            "Epoch 16/20\n",
            "2025/2025 [==============================] - 66s 33ms/step - loss: 1.0000 - acc: 0.0425\n",
            "Epoch 17/20\n",
            "2025/2025 [==============================] - 64s 32ms/step - loss: 1.0000 - acc: 0.0607\n",
            "Epoch 18/20\n",
            "2025/2025 [==============================] - 64s 32ms/step - loss: 1.0000 - acc: 0.0489\n",
            "Epoch 19/20\n",
            "2025/2025 [==============================] - 65s 32ms/step - loss: 1.0000 - acc: 0.0563\n",
            "Epoch 20/20\n",
            "2025/2025 [==============================] - 64s 32ms/step - loss: 1.0000 - acc: 0.0578\n"
          ],
          "name": "stdout"
        }
      ]
    },
    {
      "cell_type": "code",
      "metadata": {
        "id": "t8GP1v6lCcs8",
        "colab_type": "code",
        "outputId": "7f4d085a-9bab-4900-c265-bfb2a8fac43d",
        "colab": {
          "base_uri": "https://localhost:8080/",
          "height": 34
        }
      },
      "source": [
        "shape = x_test.shape\n",
        "print(shape)"
      ],
      "execution_count": 22,
      "outputs": [
        {
          "output_type": "stream",
          "text": [
            "(998, 62, 47)\n"
          ],
          "name": "stdout"
        }
      ]
    },
    {
      "cell_type": "code",
      "metadata": {
        "id": "KAXgEC-eCfxi",
        "colab_type": "code",
        "outputId": "11d7ff38-4257-4963-e84c-1849c1bd58a7",
        "colab": {
          "base_uri": "https://localhost:8080/",
          "height": 34
        }
      },
      "source": [
        "y_test = one_hot(y_test, len(persons))\n",
        "print(y_test.shape)"
      ],
      "execution_count": 23,
      "outputs": [
        {
          "output_type": "stream",
          "text": [
            "(998, 62)\n"
          ],
          "name": "stdout"
        }
      ]
    },
    {
      "cell_type": "code",
      "metadata": {
        "id": "g507AU4ER-W2",
        "colab_type": "code",
        "outputId": "1ecff2a5-8c4e-4d88-a25f-d0483961e029",
        "colab": {
          "base_uri": "https://localhost:8080/",
          "height": 69
        }
      },
      "source": [
        "print(y_test[0])"
      ],
      "execution_count": 24,
      "outputs": [
        {
          "output_type": "stream",
          "text": [
            "[0. 0. 0. 0. 0. 0. 0. 0. 0. 0. 0. 0. 0. 0. 0. 0. 0. 0. 0. 0. 0. 0. 0. 0.\n",
            " 0. 0. 0. 0. 0. 0. 0. 0. 0. 0. 0. 0. 0. 0. 0. 0. 0. 0. 0. 0. 0. 0. 0. 0.\n",
            " 0. 0. 0. 0. 0. 0. 0. 0. 1. 0. 0. 0. 0. 0.]\n"
          ],
          "name": "stdout"
        }
      ]
    },
    {
      "cell_type": "code",
      "metadata": {
        "id": "FaQJyFMuaeMm",
        "colab_type": "code",
        "colab": {
          "base_uri": "https://localhost:8080/",
          "height": 52
        },
        "outputId": "3bcdf3c7-3d5c-4d00-8f13-65a06e76f410"
      },
      "source": [
        "network.evaluate(x_test.reshape(998, 62, 47, 1), y_test)"
      ],
      "execution_count": 26,
      "outputs": [
        {
          "output_type": "stream",
          "text": [
            "998/998 [==============================] - 7s 7ms/step\n"
          ],
          "name": "stdout"
        },
        {
          "output_type": "execute_result",
          "data": {
            "text/plain": [
              "[1.0000363894120485, 0.01002004008016032]"
            ]
          },
          "metadata": {
            "tags": []
          },
          "execution_count": 26
        }
      ]
    },
    {
      "cell_type": "code",
      "metadata": {
        "id": "hvjdrLOwHw06",
        "colab_type": "code",
        "colab": {}
      },
      "source": [
        ""
      ],
      "execution_count": 0,
      "outputs": []
    }
  ]
}