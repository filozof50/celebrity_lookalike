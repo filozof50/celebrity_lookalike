{
 "cells": [
  {
   "cell_type": "code",
   "execution_count": 3,
   "metadata": {},
   "outputs": [],
   "source": [
    "import os, sys\n",
    "from IPython.display import display\n",
    "from IPython.display import Image as _Imgdis\n",
    "from PIL import Image\n",
    "import numpy as np\n",
    "from time import time\n",
    "from time import sleep\n",
    "from scipy import ndimage\n",
    "from keras.preprocessing.image import ImageDataGenerator, array_to_img, img_to_array, load_img\n",
    "import face_recognition\n",
    "\n",
    "X = np.load('dataset_x.npy')\n",
    "Y = np.load('dataset_y.npy')\n",
    "# rootdir = \"./celebrities/\"\n",
    "\n",
    "# files = []\n",
    "# X = []\n",
    "# Y = []\n",
    "\n",
    "# i=0\n",
    "\n",
    "# for subdir, dirs, files in os.walk(rootdir):\n",
    "#     for file in files:\n",
    "#         someone_image = face_recognition.load_image_file(os.path.join(subdir, file))\n",
    "#         someone_encoding = face_recognition.face_encodings(someone_image)[0]\n",
    "#         X.append(someone_encoding)\n",
    "#         i = i + 1\n",
    "#         index = subdir.rfind('/')\n",
    "#         Y.append(subdir[index + 1: ])\n",
    "#         print(i)"
   ]
  },
  {
   "cell_type": "code",
   "execution_count": 4,
   "metadata": {},
   "outputs": [
    {
     "name": "stdout",
     "output_type": "stream",
     "text": [
      "1000\n"
     ]
    }
   ],
   "source": [
    "Y = np.array(Y)\n",
    "print(len(Y))"
   ]
  },
  {
   "cell_type": "code",
   "execution_count": 5,
   "metadata": {},
   "outputs": [
    {
     "name": "stdout",
     "output_type": "stream",
     "text": [
      "Al_Pacino 20\n",
      "Angelina_Jolie 20\n",
      "Anthony_Hopkins 20\n",
      "Antonio_Banderas 20\n",
      "Benedict_Cumberbatch 20\n",
      "Bill_Gates 20\n",
      "Billy_Zane 20\n",
      "Brad_Pitt 20\n",
      "Bruce_Willis 20\n",
      "Charlize_Theron 20\n",
      "Christian_Bale 20\n",
      "Cillian_Murphy 20\n",
      "Denzel_Washington 20\n",
      "Edward_Norton 20\n",
      "Emma_Watson 20\n",
      "George_Clooney 20\n",
      "Gerard_Butler 20\n",
      "Halle_Berry 20\n",
      "Jake_Gyllenhaal 20\n",
      "Jason_Statham 20\n",
      "Jessica_Alba 20\n",
      "Jim_Carrey 20\n",
      "Jodie_Foster 20\n",
      "John_Travolta 20\n",
      "Kate_Winslet 20\n",
      "Keanu_Reeves 20\n",
      "Kevin_Spacey 20\n",
      "Leonardio_Di_Caprio 20\n",
      "Liam_Neeson 20\n",
      "Matt_Damon 20\n",
      "Matthew_Mcconaughey 20\n",
      "Michael_Jordan 20\n",
      "Monica_Bellucci 20\n",
      "Morgan_Freeman 20\n",
      "Natalie_Portman 20\n",
      "Nicolas_Cage 20\n",
      "Nikola_Kojo 20\n",
      "Robert_De_Niro 20\n",
      "Russell_Crowe 20\n",
      "Ryan_Gosling 20\n",
      "Salma_Hayek 20\n",
      "Scarlett_Johansson 20\n",
      "Sharon_Stone 20\n",
      "The_Rock 20\n",
      "Tom_Cruise 20\n",
      "Tom_Hanks 20\n",
      "Tom_Hardy 20\n",
      "Uma_Thurman 20\n",
      "Vin_Diesel 20\n",
      "Will_Smith 20\n"
     ]
    }
   ],
   "source": [
    "a, b = np.unique(Y, return_counts=True)\n",
    "counts = dict(zip(a, b))\n",
    "\n",
    "for item in counts:\n",
    "    print(item, counts[item])"
   ]
  },
  {
   "cell_type": "code",
   "execution_count": 16,
   "metadata": {},
   "outputs": [
    {
     "name": "stdout",
     "output_type": "stream",
     "text": [
      "[1 2 3 4 5 4 3 2 1]\n"
     ]
    },
    {
     "data": {
      "image/png": "[encoded data removed]",
      "text/plain": [
       "<Figure size 432x288 with 1 Axes>"
      ]
     },
     "metadata": {
      "needs_background": "light"
     },
     "output_type": "display_data"
    }
   ],
   "source": [
    "from matplotlib import pyplot as plt\n",
    "keys = counts.keys()\n",
    "values = []\n",
    "\n",
    "for key in keys:\n",
    "    values.append(counts[key])\n",
    "    \n",
    "values = np.array([1,2,3,4,5,4,3,2,1])\n",
    "\n",
    "print(values)\n",
    "bars = plt.bar(len(keys), values)\n",
    "\n",
    "bars[0].set_color('g')\n",
    "plt.show()"
   ]
  },
  {
   "cell_type": "code",
   "execution_count": null,
   "metadata": {},
   "outputs": [],
   "source": [
    "X = np.array(X)"
   ]
  },
  {
   "cell_type": "code",
   "execution_count": null,
   "metadata": {},
   "outputs": [],
   "source": [
    "np.save('dataset_x', X)\n",
    "np.save('dataset_y', Y)"
   ]
  }
 ],
 "metadata": {
  "kernelspec": {
   "display_name": "Python 3",
   "language": "python",
   "name": "python3"
  },
  "language_info": {
   "codemirror_mode": {
    "name": "ipython",
    "version": 3
   },
   "file_extension": ".py",
   "mimetype": "text/x-python",
   "name": "python",
   "nbconvert_exporter": "python",
   "pygments_lexer": "ipython3",
   "version": "3.7.4"
  }
 },
 "nbformat": 4,
 "nbformat_minor": 2
}
