{
 "cells": [
  {
   "cell_type": "code",
   "execution_count": 1,
   "metadata": {},
   "outputs": [],
   "source": [
    "from sklearn import datasets\n",
    "import numpy as np\n",
    "import sys\n",
    "import dlib\n",
    "from matplotlib import pyplot as plt\n",
    "from skimage import io\n",
    "from PIL import Image\n",
    "import cv2\n",
    "import face_recognition\n",
    "from matplotlib import pyplot as plt\n",
    "import openface\n",
    "import matplotlib\n",
    "import os\n",
    "from scipy import ndimage"
   ]
  },
  {
   "cell_type": "code",
   "execution_count": 4,
   "metadata": {},
   "outputs": [
    {
     "name": "stdout",
     "output_type": "stream",
     "text": [
      "./celebrities/Morgan_Freeman/7.jpeg\n",
      "./celebrities/John_Travolta/5.jpeg\n",
      "./celebrities/John_Travolta/8.jpeg\n",
      "./celebrities/Al_Pacino/15.jpeg\n",
      "./celebrities/Tom_Hardy/12.jpeg\n",
      "./celebrities/Emma_Watson/4.jpeg\n",
      "./celebrities/Keanu_Reeves/17.jpg\n",
      "./celebrities/Denzel_Washington/3.jpeg\n",
      "./celebrities/Jason_Statham/7.jpeg\n",
      "./celebrities/Vin_Diesel/17.jpeg\n",
      "./celebrities/Vin_Diesel/13.jpeg\n",
      "./celebrities/Vin_Diesel/2.jpeg\n",
      "./celebrities/Tom_Cruise/9.jpeg\n",
      "./celebrities/Monica_Bellucci/8.jpeg\n",
      "./celebrities/Monica_Bellucci/4.jpeg\n",
      "./celebrities/Bruce_Willis/13.jpeg\n"
     ]
    }
   ],
   "source": [
    "predictor_model = \"shape_predictor_68_face_landmarks.dat\"\n",
    "\n",
    "# face_location = face_recognition.face_locations(image)[0]\n",
    "\n",
    "face_detector = dlib.get_frontal_face_detector()\n",
    "face_pose_predictor = dlib.shape_predictor(predictor_model)\n",
    "face_aligner = openface.AlignDlib(predictor_model)\n",
    "\n",
    "movement = 0\n",
    "\n",
    "rootdir = \"./celebrities/\"\n",
    "\n",
    "files = []\n",
    "X = []\n",
    "Y = []\n",
    "\n",
    "i=0\n",
    "\n",
    "for subdir, dirs, files in os.walk(rootdir):\n",
    "    for file in files:\n",
    "        \n",
    "        image = face_recognition.load_image_file(os.path.join(subdir, file))\n",
    "        \n",
    "        face_location = face_recognition.face_locations(image)[0]\n",
    "        \n",
    "        top, right, bottom, left = face_location\n",
    "        \n",
    "        face = image[top - movement : bottom + movement, left - movement : right + movement]\n",
    "\n",
    "        detected_faces = face_detector(face, 1)\n",
    "        \n",
    "        try:\n",
    "            face_rect = detected_faces[0]\n",
    "        except:\n",
    "            print(os.path.join(subdir, file))\n",
    "            continue\n",
    "            \n",
    "        pose_landmarks = face_pose_predictor(face, face_rect)\n",
    "    \n",
    "        alignedFace = face_aligner.align(534, face, face_rect, landmarkIndices=openface.AlignDlib.OUTER_EYES_AND_NOSE)\n",
    "\n",
    "        alignedFace = np.mean(alignedFace, axis = 2)\n",
    "    \n",
    "        alignedFace = ndimage.gaussian_filter(alignedFace, sigma=(5, 5), order=0)\n",
    "    \n",
    "        alignedFace = cv2.resize(alignedFace, (150, 150), cv2.INTER_AREA)\n",
    "        \n",
    "        X.append(alignedFace)\n",
    "        \n",
    "        i = i + 1\n",
    "  \n",
    "        index = subdir.rfind('/')\n",
    "        \n",
    "        Y.append(subdir[index + 1: ])\n",
    "      \n",
    "#         print(i)"
   ]
  },
  {
   "cell_type": "code",
   "execution_count": 5,
   "metadata": {},
   "outputs": [],
   "source": [
    "np.save('final_dataset_x_neural', X)\n",
    "np.save('final_dataset_y_neural', Y)"
   ]
  },
  {
   "cell_type": "code",
   "execution_count": null,
   "metadata": {},
   "outputs": [],
   "source": []
  }
 ],
 "metadata": {
  "kernelspec": {
   "display_name": "Python 3",
   "language": "python",
   "name": "python3"
  },
  "language_info": {
   "codemirror_mode": {
    "name": "ipython",
    "version": 3
   },
   "file_extension": ".py",
   "mimetype": "text/x-python",
   "name": "python",
   "nbconvert_exporter": "python",
   "pygments_lexer": "ipython3",
   "version": "3.7.4"
  }
 },
 "nbformat": 4,
 "nbformat_minor": 2
}
